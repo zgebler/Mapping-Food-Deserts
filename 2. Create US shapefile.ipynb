{
 "cells": [
  {
   "cell_type": "code",
   "execution_count": 2,
   "metadata": {},
   "outputs": [],
   "source": [
    "import requests\n",
    "from bs4 import BeautifulSoup as bs\n",
    "import re\n",
    "from zipfile import ZipFile\n",
    "import os\n",
    "import matplotlib.pyplot as plt\n",
    "import geopandas as gpd\n",
    "import pandas as pd\n",
    "import numpy as np\n"
   ]
  },
  {
   "cell_type": "code",
   "execution_count": 71,
   "metadata": {},
   "outputs": [],
   "source": [
    "census_url = \"https://www2.census.gov/geo/tiger/TIGER2010/TRACT/2010/\""
   ]
  },
  {
   "cell_type": "code",
   "execution_count": 72,
   "metadata": {},
   "outputs": [],
   "source": [
    "def get_zip_links(url):\n",
    "    #create response object\n",
    "    r = requests.get(url)\n",
    "    #create beautiful-soup object\n",
    "    soup = bs(r.content,'html5lib')\n",
    "    #find all links on web-page\n",
    "    links = soup.findAll('a')\n",
    "\n",
    "    #filter the links to match pattern for state-wde shape files\n",
    "    zip_links = []\n",
    "    \n",
    "    for link in links:\n",
    "        \n",
    "        try:\n",
    "            if re.search('tl_2010_'+'\\d{2}'+'_', link['href']):\n",
    "                zip_links.append(url + link['href'])\n",
    "        except:\n",
    "            pass\n",
    "        \n",
    "    \n",
    "    return zip_links\n",
    " "
   ]
  },
  {
   "cell_type": "code",
   "execution_count": 75,
   "metadata": {},
   "outputs": [],
   "source": [
    "def download_zip_files(links):\n",
    "\n",
    "    for link in links:\n",
    "        file_name = link.split('/')[-1]\n",
    "        \n",
    "        # print('Downloading file:%s'%file_name)\n",
    "        \n",
    "        r = requests.get(link, stream = True)\n",
    "\n",
    "        with open('data/zipfiles/' + file_name, 'wb') as f:\n",
    "            for chunk in r.iter_content(chunk_size = 1024*1024):\n",
    "                if chunk:\n",
    "                    f.write(chunk)\n",
    "        print('Downloaded file:%s'%file_name)\n",
    "\n",
    "    print(\"All files downloaded!\")\n",
    "    return"
   ]
  },
  {
   "cell_type": "code",
   "execution_count": 76,
   "metadata": {},
   "outputs": [],
   "source": [
    "zip_links = get_zip_links(census_url)"
   ]
  },
  {
   "cell_type": "code",
   "execution_count": 77,
   "metadata": {},
   "outputs": [
    {
     "name": "stdout",
     "output_type": "stream",
     "text": [
      "Downloaded file:tl_2010_01_tract10.zip\n",
      "Downloaded file:tl_2010_02_tract10.zip\n",
      "Downloaded file:tl_2010_04_tract10.zip\n",
      "Downloaded file:tl_2010_05_tract10.zip\n",
      "Downloaded file:tl_2010_06_tract10.zip\n",
      "Downloaded file:tl_2010_08_tract10.zip\n",
      "Downloaded file:tl_2010_09_tract10.zip\n",
      "Downloaded file:tl_2010_10_tract10.zip\n",
      "Downloaded file:tl_2010_11_tract10.zip\n",
      "Downloaded file:tl_2010_12_tract10.zip\n",
      "Downloaded file:tl_2010_13_tract10.zip\n",
      "Downloaded file:tl_2010_15_tract10.zip\n",
      "Downloaded file:tl_2010_16_tract10.zip\n",
      "Downloaded file:tl_2010_17_tract10.zip\n",
      "Downloaded file:tl_2010_18_tract10.zip\n",
      "Downloaded file:tl_2010_19_tract10.zip\n",
      "Downloaded file:tl_2010_20_tract10.zip\n",
      "Downloaded file:tl_2010_21_tract10.zip\n",
      "Downloaded file:tl_2010_22_tract10.zip\n",
      "Downloaded file:tl_2010_23_tract10.zip\n",
      "Downloaded file:tl_2010_24_tract10.zip\n",
      "Downloaded file:tl_2010_25_tract10.zip\n",
      "Downloaded file:tl_2010_26_tract10.zip\n",
      "Downloaded file:tl_2010_27_tract10.zip\n",
      "Downloaded file:tl_2010_28_tract10.zip\n",
      "Downloaded file:tl_2010_29_tract10.zip\n",
      "Downloaded file:tl_2010_30_tract10.zip\n",
      "Downloaded file:tl_2010_31_tract10.zip\n",
      "Downloaded file:tl_2010_32_tract10.zip\n",
      "Downloaded file:tl_2010_33_tract10.zip\n",
      "Downloaded file:tl_2010_34_tract10.zip\n",
      "Downloaded file:tl_2010_35_tract10.zip\n",
      "Downloaded file:tl_2010_36_tract10.zip\n",
      "Downloaded file:tl_2010_37_tract10.zip\n",
      "Downloaded file:tl_2010_38_tract10.zip\n",
      "Downloaded file:tl_2010_39_tract10.zip\n",
      "Downloaded file:tl_2010_40_tract10.zip\n",
      "Downloaded file:tl_2010_41_tract10.zip\n",
      "Downloaded file:tl_2010_42_tract10.zip\n",
      "Downloaded file:tl_2010_44_tract10.zip\n",
      "Downloaded file:tl_2010_45_tract10.zip\n",
      "Downloaded file:tl_2010_46_tract10.zip\n",
      "Downloaded file:tl_2010_47_tract10.zip\n",
      "Downloaded file:tl_2010_48_tract10.zip\n",
      "Downloaded file:tl_2010_49_tract10.zip\n",
      "Downloaded file:tl_2010_50_tract10.zip\n",
      "Downloaded file:tl_2010_51_tract10.zip\n",
      "Downloaded file:tl_2010_53_tract10.zip\n",
      "Downloaded file:tl_2010_54_tract10.zip\n",
      "Downloaded file:tl_2010_55_tract10.zip\n",
      "Downloaded file:tl_2010_56_tract10.zip\n",
      "Downloaded file:tl_2010_60_tract10.zip\n",
      "Downloaded file:tl_2010_66_tract10.zip\n",
      "Downloaded file:tl_2010_69_tract10.zip\n",
      "Downloaded file:tl_2010_72_tract10.zip\n",
      "Downloaded file:tl_2010_78_tract10.zip\n",
      "All files downloaded!\n"
     ]
    }
   ],
   "source": [
    "download_zip_files(zip_links)"
   ]
  },
  {
   "cell_type": "code",
   "execution_count": 80,
   "metadata": {},
   "outputs": [
    {
     "name": "stdout",
     "output_type": "stream",
     "text": [
      "tl_2010_01_tract10.zip\n",
      "tl_2010_02_tract10.zip\n",
      "tl_2010_04_tract10.zip\n",
      "tl_2010_05_tract10.zip\n",
      "tl_2010_06_tract10.zip\n",
      "tl_2010_08_tract10.zip\n",
      "tl_2010_09_tract10.zip\n",
      "tl_2010_10_tract10.zip\n",
      "tl_2010_11_tract10.zip\n",
      "tl_2010_12_tract10.zip\n",
      "tl_2010_13_tract10.zip\n",
      "tl_2010_15_tract10.zip\n",
      "tl_2010_16_tract10.zip\n",
      "tl_2010_17_tract10.zip\n",
      "tl_2010_18_tract10.zip\n",
      "tl_2010_19_tract10.zip\n",
      "tl_2010_20_tract10.zip\n",
      "tl_2010_21_tract10.zip\n",
      "tl_2010_22_tract10.zip\n",
      "tl_2010_23_tract10.zip\n",
      "tl_2010_24_tract10.zip\n",
      "tl_2010_25_tract10.zip\n",
      "tl_2010_26_tract10.zip\n",
      "tl_2010_27_tract10.zip\n",
      "tl_2010_28_tract10.zip\n",
      "tl_2010_29_tract10.zip\n",
      "tl_2010_30_tract10.zip\n",
      "tl_2010_31_tract10.zip\n",
      "tl_2010_32_tract10.zip\n",
      "tl_2010_33_tract10.zip\n",
      "tl_2010_34_tract10.zip\n",
      "tl_2010_35_tract10.zip\n",
      "tl_2010_36_tract10.zip\n",
      "tl_2010_37_tract10.zip\n",
      "tl_2010_38_tract10.zip\n",
      "tl_2010_39_tract10.zip\n",
      "tl_2010_40_tract10.zip\n",
      "tl_2010_41_tract10.zip\n",
      "tl_2010_42_tract10.zip\n",
      "tl_2010_44_tract10.zip\n",
      "tl_2010_45_tract10.zip\n",
      "tl_2010_46_tract10.zip\n",
      "tl_2010_47_tract10.zip\n",
      "tl_2010_48_tract10.zip\n",
      "tl_2010_49_tract10.zip\n",
      "tl_2010_50_tract10.zip\n",
      "tl_2010_51_tract10.zip\n",
      "tl_2010_53_tract10.zip\n",
      "tl_2010_54_tract10.zip\n",
      "tl_2010_55_tract10.zip\n",
      "tl_2010_56_tract10.zip\n",
      "tl_2010_60_tract10.zip\n"
     ]
    }
   ],
   "source": [
    "# Extract Zip Files\n",
    "files = os.listdir(\"./data/zipfiles\")\n",
    "\n",
    "for file in files:\n",
    "    if file.endswith('zip'):\n",
    "        print(file)\n",
    "        \n",
    "        with ZipFile('./data/zipfiles/' + file, 'r') as zipObj:\n",
    "    \n",
    "       # Check if it is a shape files\n",
    "            listOfFileNames = zipObj.namelist()\n",
    "    \n",
    "            for fileName in listOfFileNames:\n",
    "                #if fileName.endswith('.shp'):\n",
    "            \n",
    "                zipObj.extract(fileName, './data/shapefiles')      "
   ]
  },
  {
   "cell_type": "code",
   "execution_count": 3,
   "metadata": {},
   "outputs": [],
   "source": [
    "# Merge shapefiles into single GeoPandas DataFrame\n",
    "\n",
    "\n",
    "# https://stackoverflow.com/questions/48874113/concat-multiple-shapefiles-via-geopandas\n",
    "file = os.listdir('./data/shapefiles')\n",
    "path = [os.path.join('./data/shapefiles', i) for i in file if i.endswith('.shp')]\n",
    "\n",
    "gdf = gpd.GeoDataFrame(pd.concat([gpd.read_file(i) for i in path],\n",
    "                                 ignore_index = True), crs = gpd.read_file(path[0]).crs)"
   ]
  },
  {
   "cell_type": "code",
   "execution_count": 24,
   "metadata": {},
   "outputs": [],
   "source": [
    "# Keep only US states\n",
    "gdf = gdf.loc[~gdf['STATEFP10'].isin(['60','66','69','72','78'])]"
   ]
  },
  {
   "cell_type": "code",
   "execution_count": 25,
   "metadata": {},
   "outputs": [
    {
     "data": {
      "text/plain": [
       "Index         0.557381\n",
       "STATEFP10     4.110682\n",
       "COUNTYFP10    4.180355\n",
       "TRACTCE10     4.389373\n",
       "GEOID10       4.737736\n",
       "NAME10        4.302261\n",
       "NAMELSAD10    5.198243\n",
       "MTFCC10       4.319700\n",
       "FUNCSTAT10    4.319700\n",
       "ALAND10       0.557381\n",
       "AWATER10      0.557381\n",
       "INTPTLAT10    4.737736\n",
       "INTPTLON10    4.807408\n",
       "geometry      0.557381\n",
       "dtype: float64"
      ]
     },
     "execution_count": 25,
     "metadata": {},
     "output_type": "execute_result"
    }
   ],
   "source": [
    "# Compress file to save it\n",
    "gdf.memory_usage(deep=True) / 1024 ** 2\n",
    "\n",
    "#gdf.to_file('./data/USA_gdf.shp')\n"
   ]
  },
  {
   "cell_type": "code",
   "execution_count": 26,
   "metadata": {},
   "outputs": [],
   "source": [
    "us_tracts = gdf[['STATEFP10', 'COUNTYFP10', 'GEOID10', 'INTPTLAT10', 'INTPTLON10']]"
   ]
  },
  {
   "cell_type": "code",
   "execution_count": 27,
   "metadata": {},
   "outputs": [],
   "source": [
    "# Convert to numerics\n",
    "us_tracts.loc[:,'tract'] = us_tracts.loc[:,'GEOID10'].str.lstrip(\"0\").astype(np.int64) \n",
    "us_tracts.loc[:,'lat'] = us_tracts.loc[:,'INTPTLAT10'].str.strip(\"+\").astype(float)\n",
    "us_tracts.loc[:,'lon'] = us_tracts.loc[:,'INTPTLON10'].str.strip(\"-\").astype(float) * -1\n"
   ]
  },
  {
   "cell_type": "code",
   "execution_count": 28,
   "metadata": {},
   "outputs": [],
   "source": [
    "# Save File\n",
    "us_tracts[['tract', 'lat', 'lon']].to_csv('./data/us_tracts.csv')"
   ]
  },
  {
   "cell_type": "code",
   "execution_count": null,
   "metadata": {},
   "outputs": [],
   "source": []
  }
 ],
 "metadata": {
  "kernelspec": {
   "display_name": "Python 3",
   "language": "python",
   "name": "python3"
  },
  "language_info": {
   "codemirror_mode": {
    "name": "ipython",
    "version": 3
   },
   "file_extension": ".py",
   "mimetype": "text/x-python",
   "name": "python",
   "nbconvert_exporter": "python",
   "pygments_lexer": "ipython3",
   "version": "3.7.4"
  }
 },
 "nbformat": 4,
 "nbformat_minor": 2
}
