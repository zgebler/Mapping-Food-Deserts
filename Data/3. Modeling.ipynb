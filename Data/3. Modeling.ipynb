{
 "cells": [
  {
   "cell_type": "markdown",
   "metadata": {},
   "source": [
    "### Reverse Engineering, Feature Selection, and Classification"
   ]
  },
  {
   "cell_type": "code",
   "execution_count": 363,
   "metadata": {},
   "outputs": [],
   "source": [
    "import pandas as pd\n",
    "import numpy as np\n",
    "\n",
    "from sklearn.model_selection import train_test_split\n",
    "from sklearn.linear_model import LogisticRegression\n",
    "from sklearn.ensemble import RandomForestClassifier\n",
    "from sklearn.cluster import KMeans\n"
   ]
  },
  {
   "cell_type": "markdown",
   "metadata": {},
   "source": [
    "### Load Data and Create Geographic Clusters"
   ]
  },
  {
   "cell_type": "code",
   "execution_count": 268,
   "metadata": {},
   "outputs": [
    {
     "data": {
      "text/plain": [
       "(72864, 149)"
      ]
     },
     "execution_count": 268,
     "metadata": {},
     "output_type": "execute_result"
    }
   ],
   "source": [
    "# Load in census data\n",
    "census = pd.read_csv(\"data/census.csv\",index_col=0)\n",
    "census.shape"
   ]
  },
  {
   "cell_type": "code",
   "execution_count": 270,
   "metadata": {},
   "outputs": [],
   "source": [
    "# Load US Census Tracts\n",
    "us_tracts = pd.read_csv('./data/us_tracts.csv', index_col=0)\n",
    "# Merge with US Census Data\n",
    "census = census.merge(us_tracts, left_on='CensusTract', right_on='tract')"
   ]
  },
  {
   "cell_type": "code",
   "execution_count": 273,
   "metadata": {},
   "outputs": [],
   "source": [
    "# Clustering our Points geographically\n",
    "location_data = census[['lat', 'lon']]\n",
    "# Create 20 clusters and add back to census data\n",
    "km = KMeans(n_clusters=20, random_state = 1776)\n",
    "km.fit(location_data)\n",
    "clusters = km.predict(location_data)\n",
    "census.loc[:,'clusters'] = clusters"
   ]
  },
  {
   "cell_type": "markdown",
   "metadata": {},
   "source": [
    "### 1. Baseline Model"
   ]
  },
  {
   "cell_type": "code",
   "execution_count": 318,
   "metadata": {},
   "outputs": [
    {
     "data": {
      "text/html": [
       "<div>\n",
       "<style scoped>\n",
       "    .dataframe tbody tr th:only-of-type {\n",
       "        vertical-align: middle;\n",
       "    }\n",
       "\n",
       "    .dataframe tbody tr th {\n",
       "        vertical-align: top;\n",
       "    }\n",
       "\n",
       "    .dataframe thead th {\n",
       "        text-align: right;\n",
       "    }\n",
       "</style>\n",
       "<table border=\"1\" class=\"dataframe\">\n",
       "  <thead>\n",
       "    <tr style=\"text-align: right;\">\n",
       "      <th>fd_flag</th>\n",
       "      <th>0</th>\n",
       "      <th>1</th>\n",
       "    </tr>\n",
       "  </thead>\n",
       "  <tbody>\n",
       "    <tr>\n",
       "      <td>POP2010</td>\n",
       "      <td>4285.780</td>\n",
       "      <td>4126.080</td>\n",
       "    </tr>\n",
       "    <tr>\n",
       "      <td>OHU2010</td>\n",
       "      <td>1633.400</td>\n",
       "      <td>1529.462</td>\n",
       "    </tr>\n",
       "    <tr>\n",
       "      <td>Urban</td>\n",
       "      <td>0.708</td>\n",
       "      <td>0.869</td>\n",
       "    </tr>\n",
       "    <tr>\n",
       "      <td>TractSNAP</td>\n",
       "      <td>150.911</td>\n",
       "      <td>335.693</td>\n",
       "    </tr>\n",
       "    <tr>\n",
       "      <td>PovertyRate</td>\n",
       "      <td>11.813</td>\n",
       "      <td>27.469</td>\n",
       "    </tr>\n",
       "    <tr>\n",
       "      <td>TractHUNV</td>\n",
       "      <td>129.164</td>\n",
       "      <td>182.488</td>\n",
       "    </tr>\n",
       "    <tr>\n",
       "      <td>TractKids</td>\n",
       "      <td>1010.613</td>\n",
       "      <td>1035.206</td>\n",
       "    </tr>\n",
       "    <tr>\n",
       "      <td>TractSeniors</td>\n",
       "      <td>580.176</td>\n",
       "      <td>489.514</td>\n",
       "    </tr>\n",
       "    <tr>\n",
       "      <td>TractBlack</td>\n",
       "      <td>376.575</td>\n",
       "      <td>895.898</td>\n",
       "    </tr>\n",
       "    <tr>\n",
       "      <td>TractHispanic</td>\n",
       "      <td>571.520</td>\n",
       "      <td>970.795</td>\n",
       "    </tr>\n",
       "    <tr>\n",
       "      <td>TractWhite</td>\n",
       "      <td>3314.017</td>\n",
       "      <td>2504.144</td>\n",
       "    </tr>\n",
       "    <tr>\n",
       "      <td>TractAsian</td>\n",
       "      <td>232.144</td>\n",
       "      <td>130.875</td>\n",
       "    </tr>\n",
       "  </tbody>\n",
       "</table>\n",
       "</div>"
      ],
      "text/plain": [
       "fd_flag               0         1\n",
       "POP2010        4285.780  4126.080\n",
       "OHU2010        1633.400  1529.462\n",
       "Urban             0.708     0.869\n",
       "TractSNAP       150.911   335.693\n",
       "PovertyRate      11.813    27.469\n",
       "TractHUNV       129.164   182.488\n",
       "TractKids      1010.613  1035.206\n",
       "TractSeniors    580.176   489.514\n",
       "TractBlack      376.575   895.898\n",
       "TractHispanic   571.520   970.795\n",
       "TractWhite     3314.017  2504.144\n",
       "TractAsian      232.144   130.875"
      ]
     },
     "execution_count": 318,
     "metadata": {},
     "output_type": "execute_result"
    }
   ],
   "source": [
    "# Baseline Model\n",
    "census.groupby(by = 'fd_flag').agg({\n",
    "    'POP2010'      : 'mean',\n",
    "    'OHU2010'      : 'mean',\n",
    "    'Urban'        : 'mean',\n",
    "    'TractSNAP'    : 'mean',\n",
    "    'PovertyRate'  : 'mean',\n",
    "    'TractHUNV'    : 'mean',\n",
    "    'TractKids'    : 'mean',\n",
    "    'TractSeniors' : 'mean',\n",
    "    'TractBlack'   : 'mean',\n",
    "    'TractHispanic': 'mean',\n",
    "    'TractWhite'   : 'mean',\n",
    "    'TractAsian'   : 'mean'\n",
    "     \n",
    "}).T.round(3)"
   ]
  },
  {
   "cell_type": "markdown",
   "metadata": {},
   "source": [
    "### 1. Interpretation of Baseline Model\n",
    "- Differences observed in Urban Flag, Household SNAP recipients, Poverty Rates, Vehicle Access, and Racial Demographics"
   ]
  },
  {
   "cell_type": "code",
   "execution_count": 160,
   "metadata": {},
   "outputs": [
    {
     "data": {
      "text/plain": [
       "LowIncomeTracts         1.000000\n",
       "fd_flag                 0.770212\n",
       "LILATracts_halfAnd10    0.731157\n",
       "PovertyRate             0.716020\n",
       "TractSNAP               0.532868\n",
       "dtype: float64"
      ]
     },
     "execution_count": 160,
     "metadata": {},
     "output_type": "execute_result"
    }
   ],
   "source": [
    "# Feature selection, look at correlations for low-income\n",
    "corr = census.corrwith(census['LowIncomeTracts'])\n",
    "corr.sort_values(ascending = False).head()"
   ]
  },
  {
   "cell_type": "code",
   "execution_count": 161,
   "metadata": {},
   "outputs": [
    {
     "data": {
      "text/plain": [
       "la_flag          1.000000\n",
       "LAhalfand10      0.914019\n",
       "LATracts_half    0.828551\n",
       "LAPOP05_10       0.605017\n",
       "LALOWI05_10      0.504786\n",
       "dtype: float64"
      ]
     },
     "execution_count": 161,
     "metadata": {},
     "output_type": "execute_result"
    }
   ],
   "source": [
    "# Feature selection, look at correlations for low-access\n",
    "corr = census.corrwith(census['la_flag'])\n",
    "corr.sort_values(ascending = False).head()"
   ]
  },
  {
   "cell_type": "code",
   "execution_count": 162,
   "metadata": {},
   "outputs": [
    {
     "data": {
      "text/plain": [
       "fd_flag                 1.000000\n",
       "LILATracts_halfAnd10    0.949293\n",
       "LowIncomeTracts         0.770212\n",
       "LILATracts_Vehicle      0.634062\n",
       "LILATracts_1And10       0.577265\n",
       "dtype: float64"
      ]
     },
     "execution_count": 162,
     "metadata": {},
     "output_type": "execute_result"
    }
   ],
   "source": [
    "# Feature selection, look for correlations with Food Desert\n",
    "corr = census.corrwith(census['fd_flag'])\n",
    "corr.sort_values(ascending = False).head()"
   ]
  },
  {
   "cell_type": "markdown",
   "metadata": {},
   "source": [
    "### 2.1 Low Income Predicting Model - Logistic Regression"
   ]
  },
  {
   "cell_type": "code",
   "execution_count": 286,
   "metadata": {},
   "outputs": [],
   "source": [
    "# Set Low Income as our Target Vector\n",
    "y = census['LowIncomeTracts']\n",
    "# Select Demographic features from census data\n",
    "features = ['POP2010',  'Urban', 'OHU2010',\n",
    "            'TractSNAP', 'PovertyRate',\n",
    "            'TractKids', 'TractSeniors',\n",
    "           'TractBlack', 'TractHispanic',\n",
    "           'TractWhite', 'TractAsian']\n",
    "\n",
    "X = census[features]"
   ]
  },
  {
   "cell_type": "code",
   "execution_count": 287,
   "metadata": {},
   "outputs": [
    {
     "data": {
      "text/plain": [
       "0    0.576334\n",
       "1    0.423666\n",
       "Name: LowIncomeTracts, dtype: float64"
      ]
     },
     "execution_count": 287,
     "metadata": {},
     "output_type": "execute_result"
    }
   ],
   "source": [
    "# Check Baseline model\n",
    "y.value_counts(normalize = True)"
   ]
  },
  {
   "cell_type": "code",
   "execution_count": 288,
   "metadata": {},
   "outputs": [],
   "source": [
    "# Train/test split our data\n",
    "X_train, X_test, y_train, y_test = train_test_split(X, y, test_size = 0.2, random_state = 42)"
   ]
  },
  {
   "cell_type": "code",
   "execution_count": 289,
   "metadata": {},
   "outputs": [
    {
     "name": "stdout",
     "output_type": "stream",
     "text": [
      "Training Accuracy: 0.89259.\n",
      "Testing Accuracy: 0.89542.\n"
     ]
    }
   ],
   "source": [
    "# Instantiate and fit Logistic Regression\n",
    "lr = LogisticRegression(solver = 'liblinear')\n",
    "lr.fit(X_train, y_train)\n",
    "# Print Training and Testing Accuracy Scores\n",
    "print(f'Training Accuracy: {round(lr.score(X_train, y_train),5)}.')\n",
    "print(f'Testing Accuracy: {round(lr.score(X_test, y_test),5)}.')"
   ]
  },
  {
   "cell_type": "code",
   "execution_count": 290,
   "metadata": {},
   "outputs": [
    {
     "data": {
      "text/html": [
       "<div>\n",
       "<style scoped>\n",
       "    .dataframe tbody tr th:only-of-type {\n",
       "        vertical-align: middle;\n",
       "    }\n",
       "\n",
       "    .dataframe tbody tr th {\n",
       "        vertical-align: top;\n",
       "    }\n",
       "\n",
       "    .dataframe thead th {\n",
       "        text-align: right;\n",
       "    }\n",
       "</style>\n",
       "<table border=\"1\" class=\"dataframe\">\n",
       "  <thead>\n",
       "    <tr style=\"text-align: right;\">\n",
       "      <th></th>\n",
       "      <th>Importance</th>\n",
       "    </tr>\n",
       "  </thead>\n",
       "  <tbody>\n",
       "    <tr>\n",
       "      <td>PovertyRate</td>\n",
       "      <td>0.243638</td>\n",
       "    </tr>\n",
       "    <tr>\n",
       "      <td>TractSNAP</td>\n",
       "      <td>0.006807</td>\n",
       "    </tr>\n",
       "    <tr>\n",
       "      <td>POP2010</td>\n",
       "      <td>0.000619</td>\n",
       "    </tr>\n",
       "    <tr>\n",
       "      <td>TractSeniors</td>\n",
       "      <td>0.000134</td>\n",
       "    </tr>\n",
       "    <tr>\n",
       "      <td>TractHispanic</td>\n",
       "      <td>0.000104</td>\n",
       "    </tr>\n",
       "    <tr>\n",
       "      <td>OHU2010</td>\n",
       "      <td>-0.000332</td>\n",
       "    </tr>\n",
       "    <tr>\n",
       "      <td>TractKids</td>\n",
       "      <td>-0.000560</td>\n",
       "    </tr>\n",
       "    <tr>\n",
       "      <td>TractBlack</td>\n",
       "      <td>-0.000730</td>\n",
       "    </tr>\n",
       "    <tr>\n",
       "      <td>TractAsian</td>\n",
       "      <td>-0.000804</td>\n",
       "    </tr>\n",
       "    <tr>\n",
       "      <td>TractWhite</td>\n",
       "      <td>-0.001077</td>\n",
       "    </tr>\n",
       "    <tr>\n",
       "      <td>Urban</td>\n",
       "      <td>-0.040366</td>\n",
       "    </tr>\n",
       "  </tbody>\n",
       "</table>\n",
       "</div>"
      ],
      "text/plain": [
       "               Importance\n",
       "PovertyRate      0.243638\n",
       "TractSNAP        0.006807\n",
       "POP2010          0.000619\n",
       "TractSeniors     0.000134\n",
       "TractHispanic    0.000104\n",
       "OHU2010         -0.000332\n",
       "TractKids       -0.000560\n",
       "TractBlack      -0.000730\n",
       "TractAsian      -0.000804\n",
       "TractWhite      -0.001077\n",
       "Urban           -0.040366"
      ]
     },
     "execution_count": 290,
     "metadata": {},
     "output_type": "execute_result"
    }
   ],
   "source": [
    "#Interpretation - pull coefficients into a DataFrame\n",
    "features_df = pd.DataFrame(lr.coef_.T, X_train.columns, columns=['Importance'])\n",
    "features_df.sort_values('Importance', ascending = False)"
   ]
  },
  {
   "cell_type": "markdown",
   "metadata": {},
   "source": [
    "### 2.1 Interpretation - Low Income Logistic Regression\n",
    "- Poverty Rate and Tract SNAP benefits have the strongest effect on a area being designated low-income"
   ]
  },
  {
   "cell_type": "markdown",
   "metadata": {},
   "source": [
    "### 2.2 Low Income Predicting Model - Random Forest"
   ]
  },
  {
   "cell_type": "code",
   "execution_count": 291,
   "metadata": {},
   "outputs": [
    {
     "name": "stdout",
     "output_type": "stream",
     "text": [
      "Training Accuracy: 0.99762.\n",
      "Testing Accuracy: 0.90201.\n"
     ]
    }
   ],
   "source": [
    "# Instantiate and fit Random Forest Classifier\n",
    "rfc = RandomForestClassifier(n_estimators=20)\n",
    "rfc.fit(X_train, y_train)\n",
    "# Print Training and Testing Accuracy Scores\n",
    "print(f'Training Accuracy: {round(rfc.score(X_train, y_train),5)}.')\n",
    "print(f'Testing Accuracy: {round(rfc.score(X_test, y_test),5)}.')"
   ]
  },
  {
   "cell_type": "code",
   "execution_count": 292,
   "metadata": {},
   "outputs": [
    {
     "data": {
      "text/html": [
       "<div>\n",
       "<style scoped>\n",
       "    .dataframe tbody tr th:only-of-type {\n",
       "        vertical-align: middle;\n",
       "    }\n",
       "\n",
       "    .dataframe tbody tr th {\n",
       "        vertical-align: top;\n",
       "    }\n",
       "\n",
       "    .dataframe thead th {\n",
       "        text-align: right;\n",
       "    }\n",
       "</style>\n",
       "<table border=\"1\" class=\"dataframe\">\n",
       "  <thead>\n",
       "    <tr style=\"text-align: right;\">\n",
       "      <th></th>\n",
       "      <th>Importance</th>\n",
       "    </tr>\n",
       "  </thead>\n",
       "  <tbody>\n",
       "    <tr>\n",
       "      <td>PovertyRate</td>\n",
       "      <td>0.431693</td>\n",
       "    </tr>\n",
       "    <tr>\n",
       "      <td>TractSNAP</td>\n",
       "      <td>0.188260</td>\n",
       "    </tr>\n",
       "    <tr>\n",
       "      <td>TractWhite</td>\n",
       "      <td>0.089193</td>\n",
       "    </tr>\n",
       "    <tr>\n",
       "      <td>TractHispanic</td>\n",
       "      <td>0.053833</td>\n",
       "    </tr>\n",
       "    <tr>\n",
       "      <td>TractBlack</td>\n",
       "      <td>0.046691</td>\n",
       "    </tr>\n",
       "    <tr>\n",
       "      <td>TractSeniors</td>\n",
       "      <td>0.040306</td>\n",
       "    </tr>\n",
       "    <tr>\n",
       "      <td>OHU2010</td>\n",
       "      <td>0.039298</td>\n",
       "    </tr>\n",
       "    <tr>\n",
       "      <td>TractAsian</td>\n",
       "      <td>0.035926</td>\n",
       "    </tr>\n",
       "    <tr>\n",
       "      <td>TractKids</td>\n",
       "      <td>0.035112</td>\n",
       "    </tr>\n",
       "    <tr>\n",
       "      <td>POP2010</td>\n",
       "      <td>0.034454</td>\n",
       "    </tr>\n",
       "    <tr>\n",
       "      <td>Urban</td>\n",
       "      <td>0.005233</td>\n",
       "    </tr>\n",
       "  </tbody>\n",
       "</table>\n",
       "</div>"
      ],
      "text/plain": [
       "               Importance\n",
       "PovertyRate      0.431693\n",
       "TractSNAP        0.188260\n",
       "TractWhite       0.089193\n",
       "TractHispanic    0.053833\n",
       "TractBlack       0.046691\n",
       "TractSeniors     0.040306\n",
       "OHU2010          0.039298\n",
       "TractAsian       0.035926\n",
       "TractKids        0.035112\n",
       "POP2010          0.034454\n",
       "Urban            0.005233"
      ]
     },
     "execution_count": 292,
     "metadata": {},
     "output_type": "execute_result"
    }
   ],
   "source": [
    "# Interpretation of Features\n",
    "features_df = pd.DataFrame(rfc.feature_importances_, X_train.columns, columns=['Importance'])\n",
    "features_df.sort_values('Importance', ascending = False)"
   ]
  },
  {
   "cell_type": "markdown",
   "metadata": {},
   "source": [
    "### 2.2 Interpretations - Low Income Random Forest\n",
    "- PovertyRate is most siginificant factor used in the Random Forest to classify Low Income"
   ]
  },
  {
   "cell_type": "markdown",
   "metadata": {},
   "source": [
    "### 3.1 Low Access Predicting Model - Logistic Regression"
   ]
  },
  {
   "cell_type": "code",
   "execution_count": 293,
   "metadata": {},
   "outputs": [],
   "source": [
    "# Select our constructed Low-Access flag as target Vector\n",
    "y = census['la_flag']\n",
    "\n",
    "# Select Features\n",
    "features = ['POP2010',  'Urban', 'OHU2010',\n",
    "            'TractSNAP', 'PovertyRate', 'TractHUNV',\n",
    "            'TractKids', 'TractSeniors',\n",
    "           'TractBlack', 'TractHispanic',\n",
    "           'TractWhite', 'TractAsian']\n",
    "\n",
    "X = census[features]"
   ]
  },
  {
   "cell_type": "code",
   "execution_count": 294,
   "metadata": {},
   "outputs": [],
   "source": [
    "# Train/test split our data\n",
    "X_train, X_test, y_train, y_test = train_test_split(X, y, test_size = 0.33, random_state = 42)"
   ]
  },
  {
   "cell_type": "code",
   "execution_count": 295,
   "metadata": {},
   "outputs": [
    {
     "name": "stdout",
     "output_type": "stream",
     "text": [
      "Training Score: 0.82306.\n",
      "Testing Score: 0.82047.\n"
     ]
    }
   ],
   "source": [
    "# Set up Logistic Regression\n",
    "lr = LogisticRegression(solver = 'liblinear')\n",
    "lr.fit(X_train, y_train)\n",
    "# Accuracy Scores for Training and Testing Sets\n",
    "print(f'Training Score: {round(lr.score(X_train, y_train),5)}.')\n",
    "print(f'Testing Score: {round(lr.score(X_test, y_test),5)}.')"
   ]
  },
  {
   "cell_type": "code",
   "execution_count": 296,
   "metadata": {},
   "outputs": [
    {
     "data": {
      "text/html": [
       "<div>\n",
       "<style scoped>\n",
       "    .dataframe tbody tr th:only-of-type {\n",
       "        vertical-align: middle;\n",
       "    }\n",
       "\n",
       "    .dataframe tbody tr th {\n",
       "        vertical-align: top;\n",
       "    }\n",
       "\n",
       "    .dataframe thead th {\n",
       "        text-align: right;\n",
       "    }\n",
       "</style>\n",
       "<table border=\"1\" class=\"dataframe\">\n",
       "  <thead>\n",
       "    <tr style=\"text-align: right;\">\n",
       "      <th></th>\n",
       "      <th>Importance</th>\n",
       "    </tr>\n",
       "  </thead>\n",
       "  <tbody>\n",
       "    <tr>\n",
       "      <td>Urban</td>\n",
       "      <td>3.596765</td>\n",
       "    </tr>\n",
       "    <tr>\n",
       "      <td>PovertyRate</td>\n",
       "      <td>0.008103</td>\n",
       "    </tr>\n",
       "    <tr>\n",
       "      <td>TractSNAP</td>\n",
       "      <td>0.002453</td>\n",
       "    </tr>\n",
       "    <tr>\n",
       "      <td>TractSeniors</td>\n",
       "      <td>0.001630</td>\n",
       "    </tr>\n",
       "    <tr>\n",
       "      <td>TractKids</td>\n",
       "      <td>0.000446</td>\n",
       "    </tr>\n",
       "    <tr>\n",
       "      <td>POP2010</td>\n",
       "      <td>0.000187</td>\n",
       "    </tr>\n",
       "    <tr>\n",
       "      <td>OHU2010</td>\n",
       "      <td>0.000067</td>\n",
       "    </tr>\n",
       "    <tr>\n",
       "      <td>TractBlack</td>\n",
       "      <td>0.000003</td>\n",
       "    </tr>\n",
       "    <tr>\n",
       "      <td>TractWhite</td>\n",
       "      <td>-0.000086</td>\n",
       "    </tr>\n",
       "    <tr>\n",
       "      <td>TractHispanic</td>\n",
       "      <td>-0.000455</td>\n",
       "    </tr>\n",
       "    <tr>\n",
       "      <td>TractAsian</td>\n",
       "      <td>-0.000597</td>\n",
       "    </tr>\n",
       "    <tr>\n",
       "      <td>TractHUNV</td>\n",
       "      <td>-0.005983</td>\n",
       "    </tr>\n",
       "  </tbody>\n",
       "</table>\n",
       "</div>"
      ],
      "text/plain": [
       "               Importance\n",
       "Urban            3.596765\n",
       "PovertyRate      0.008103\n",
       "TractSNAP        0.002453\n",
       "TractSeniors     0.001630\n",
       "TractKids        0.000446\n",
       "POP2010          0.000187\n",
       "OHU2010          0.000067\n",
       "TractBlack       0.000003\n",
       "TractWhite      -0.000086\n",
       "TractHispanic   -0.000455\n",
       "TractAsian      -0.000597\n",
       "TractHUNV       -0.005983"
      ]
     },
     "execution_count": 296,
     "metadata": {},
     "output_type": "execute_result"
    }
   ],
   "source": [
    "# Interpretation - pull coefficients into DataFrame\n",
    "features_df = pd.DataFrame(lr.coef_.T, X_train.columns, columns=['Importance'])\n",
    "features_df.sort_values('Importance', ascending = False)"
   ]
  },
  {
   "cell_type": "markdown",
   "metadata": {},
   "source": [
    "### 3.1 Interpretations - Low Access Logistic Regression\n",
    "- Urban flag has strongest effect on classifying Low-Access areas"
   ]
  },
  {
   "cell_type": "markdown",
   "metadata": {},
   "source": [
    "### 3.2 Low Access Model  - Random Forest"
   ]
  },
  {
   "cell_type": "code",
   "execution_count": 297,
   "metadata": {},
   "outputs": [
    {
     "name": "stdout",
     "output_type": "stream",
     "text": [
      "Training Accuracy: 0.99766.\n",
      "Testing Accuracy: 0.86775.\n"
     ]
    }
   ],
   "source": [
    "# Instantiate and fit Random Forest Classifier\n",
    "rfc = RandomForestClassifier(n_estimators=20)\n",
    "rfc.fit(X_train, y_train)\n",
    "# Print Training and Testing Accuracy Scores\n",
    "print(f'Training Accuracy: {round(rfc.score(X_train, y_train),5)}.')\n",
    "print(f'Testing Accuracy: {round(rfc.score(X_test, y_test),5)}.')"
   ]
  },
  {
   "cell_type": "code",
   "execution_count": 298,
   "metadata": {},
   "outputs": [
    {
     "data": {
      "text/html": [
       "<div>\n",
       "<style scoped>\n",
       "    .dataframe tbody tr th:only-of-type {\n",
       "        vertical-align: middle;\n",
       "    }\n",
       "\n",
       "    .dataframe tbody tr th {\n",
       "        vertical-align: top;\n",
       "    }\n",
       "\n",
       "    .dataframe thead th {\n",
       "        text-align: right;\n",
       "    }\n",
       "</style>\n",
       "<table border=\"1\" class=\"dataframe\">\n",
       "  <thead>\n",
       "    <tr style=\"text-align: right;\">\n",
       "      <th></th>\n",
       "      <th>Importance</th>\n",
       "    </tr>\n",
       "  </thead>\n",
       "  <tbody>\n",
       "    <tr>\n",
       "      <td>Urban</td>\n",
       "      <td>0.230937</td>\n",
       "    </tr>\n",
       "    <tr>\n",
       "      <td>TractHUNV</td>\n",
       "      <td>0.185107</td>\n",
       "    </tr>\n",
       "    <tr>\n",
       "      <td>TractWhite</td>\n",
       "      <td>0.067698</td>\n",
       "    </tr>\n",
       "    <tr>\n",
       "      <td>TractBlack</td>\n",
       "      <td>0.060698</td>\n",
       "    </tr>\n",
       "    <tr>\n",
       "      <td>TractHispanic</td>\n",
       "      <td>0.060135</td>\n",
       "    </tr>\n",
       "    <tr>\n",
       "      <td>TractAsian</td>\n",
       "      <td>0.060117</td>\n",
       "    </tr>\n",
       "    <tr>\n",
       "      <td>OHU2010</td>\n",
       "      <td>0.058226</td>\n",
       "    </tr>\n",
       "    <tr>\n",
       "      <td>PovertyRate</td>\n",
       "      <td>0.056648</td>\n",
       "    </tr>\n",
       "    <tr>\n",
       "      <td>TractSeniors</td>\n",
       "      <td>0.056276</td>\n",
       "    </tr>\n",
       "    <tr>\n",
       "      <td>TractSNAP</td>\n",
       "      <td>0.056173</td>\n",
       "    </tr>\n",
       "    <tr>\n",
       "      <td>TractKids</td>\n",
       "      <td>0.055714</td>\n",
       "    </tr>\n",
       "    <tr>\n",
       "      <td>POP2010</td>\n",
       "      <td>0.052271</td>\n",
       "    </tr>\n",
       "  </tbody>\n",
       "</table>\n",
       "</div>"
      ],
      "text/plain": [
       "               Importance\n",
       "Urban            0.230937\n",
       "TractHUNV        0.185107\n",
       "TractWhite       0.067698\n",
       "TractBlack       0.060698\n",
       "TractHispanic    0.060135\n",
       "TractAsian       0.060117\n",
       "OHU2010          0.058226\n",
       "PovertyRate      0.056648\n",
       "TractSeniors     0.056276\n",
       "TractSNAP        0.056173\n",
       "TractKids        0.055714\n",
       "POP2010          0.052271"
      ]
     },
     "execution_count": 298,
     "metadata": {},
     "output_type": "execute_result"
    }
   ],
   "source": [
    "#Feature Importances DataFrame\n",
    "features_df = pd.DataFrame(rfc.feature_importances_, X_train.columns, columns=['Importance'])\n",
    "features_df.sort_values('Importance', ascending = False)"
   ]
  },
  {
   "cell_type": "markdown",
   "metadata": {},
   "source": [
    "### 3.2 Interpretations - Low Access Random Forest\n",
    "- Urban Flag and Availability of Vehicles are most siginificant factors used by model to determine low access"
   ]
  },
  {
   "cell_type": "markdown",
   "metadata": {},
   "source": [
    "### 4.1 Low-Income + Low-Access Model Logistic Regression"
   ]
  },
  {
   "cell_type": "code",
   "execution_count": 390,
   "metadata": {},
   "outputs": [],
   "source": [
    "# Use constructed Food Desert Flag as Target Vector\n",
    "y = census['fd_flag']\n",
    "\n",
    "features = ['POP2010',  'Urban', 'OHU2010',\n",
    "            'TractSNAP', 'PovertyRate', 'TractHUNV',\n",
    "            'TractKids', 'TractSeniors',\n",
    "           'TractBlack', 'TractHispanic',\n",
    "           'TractWhite', 'TractAsian']\n",
    "\n",
    "\n",
    "features = ['POP2010',  'Urban', 'OHU2010',\n",
    "            'TractSNAP', 'PovertyRate', 'TractHUNV',\n",
    "            'TractKids', 'TractSeniors',\n",
    "           'TractBlack', 'TractHispanic',\n",
    "           'TractWhite', 'TractAsian']\n",
    "\n",
    "\n",
    "X = census[features]"
   ]
  },
  {
   "cell_type": "code",
   "execution_count": 391,
   "metadata": {},
   "outputs": [
    {
     "data": {
      "text/plain": [
       "0    0.696338\n",
       "1    0.303662\n",
       "Name: fd_flag, dtype: float64"
      ]
     },
     "execution_count": 391,
     "metadata": {},
     "output_type": "execute_result"
    }
   ],
   "source": [
    "# Baseline Model\n",
    "y.value_counts(normalize=True)"
   ]
  },
  {
   "cell_type": "code",
   "execution_count": 392,
   "metadata": {},
   "outputs": [],
   "source": [
    "# Train-test-split our data\n",
    "X_train, X_test, y_train, y_test = train_test_split(X, y, test_size = 0.2, random_state = 42)"
   ]
  },
  {
   "cell_type": "code",
   "execution_count": 393,
   "metadata": {},
   "outputs": [
    {
     "name": "stdout",
     "output_type": "stream",
     "text": [
      "Training Score: 0.82773.\n",
      "Testing Score: 0.83565.\n"
     ]
    }
   ],
   "source": [
    "# Set up Logistic Regression\n",
    "lr = LogisticRegression(solver = 'liblinear')\n",
    "lr.fit(X_train, y_train)\n",
    "# Accuracy Scores for Training and Testing Sets\n",
    "print(f'Training Score: {round(lr.score(X_train, y_train),5)}.')\n",
    "print(f'Testing Score: {round(lr.score(X_test, y_test),5)}.')"
   ]
  },
  {
   "cell_type": "code",
   "execution_count": 394,
   "metadata": {},
   "outputs": [
    {
     "data": {
      "text/html": [
       "<div>\n",
       "<style scoped>\n",
       "    .dataframe tbody tr th:only-of-type {\n",
       "        vertical-align: middle;\n",
       "    }\n",
       "\n",
       "    .dataframe tbody tr th {\n",
       "        vertical-align: top;\n",
       "    }\n",
       "\n",
       "    .dataframe thead th {\n",
       "        text-align: right;\n",
       "    }\n",
       "</style>\n",
       "<table border=\"1\" class=\"dataframe\">\n",
       "  <thead>\n",
       "    <tr style=\"text-align: right;\">\n",
       "      <th></th>\n",
       "      <th>Importance</th>\n",
       "    </tr>\n",
       "  </thead>\n",
       "  <tbody>\n",
       "    <tr>\n",
       "      <td>Urban</td>\n",
       "      <td>1.015040</td>\n",
       "    </tr>\n",
       "    <tr>\n",
       "      <td>PovertyRate</td>\n",
       "      <td>0.087418</td>\n",
       "    </tr>\n",
       "    <tr>\n",
       "      <td>TractSNAP</td>\n",
       "      <td>0.006106</td>\n",
       "    </tr>\n",
       "    <tr>\n",
       "      <td>POP2010</td>\n",
       "      <td>0.000566</td>\n",
       "    </tr>\n",
       "    <tr>\n",
       "      <td>OHU2010</td>\n",
       "      <td>0.000530</td>\n",
       "    </tr>\n",
       "    <tr>\n",
       "      <td>TractSeniors</td>\n",
       "      <td>0.000090</td>\n",
       "    </tr>\n",
       "    <tr>\n",
       "      <td>TractHispanic</td>\n",
       "      <td>-0.000039</td>\n",
       "    </tr>\n",
       "    <tr>\n",
       "      <td>TractBlack</td>\n",
       "      <td>-0.000445</td>\n",
       "    </tr>\n",
       "    <tr>\n",
       "      <td>TractWhite</td>\n",
       "      <td>-0.000755</td>\n",
       "    </tr>\n",
       "    <tr>\n",
       "      <td>TractKids</td>\n",
       "      <td>-0.001001</td>\n",
       "    </tr>\n",
       "    <tr>\n",
       "      <td>TractAsian</td>\n",
       "      <td>-0.001044</td>\n",
       "    </tr>\n",
       "    <tr>\n",
       "      <td>TractHUNV</td>\n",
       "      <td>-0.005414</td>\n",
       "    </tr>\n",
       "  </tbody>\n",
       "</table>\n",
       "</div>"
      ],
      "text/plain": [
       "               Importance\n",
       "Urban            1.015040\n",
       "PovertyRate      0.087418\n",
       "TractSNAP        0.006106\n",
       "POP2010          0.000566\n",
       "OHU2010          0.000530\n",
       "TractSeniors     0.000090\n",
       "TractHispanic   -0.000039\n",
       "TractBlack      -0.000445\n",
       "TractWhite      -0.000755\n",
       "TractKids       -0.001001\n",
       "TractAsian      -0.001044\n",
       "TractHUNV       -0.005414"
      ]
     },
     "execution_count": 394,
     "metadata": {},
     "output_type": "execute_result"
    }
   ],
   "source": [
    "#Interpretation - pull cefficients into DataFrame\n",
    "features_df = pd.DataFrame(lr.coef_.T, X_train.columns, columns=['Importance'])\n",
    "features_df.sort_values('Importance', ascending = False)"
   ]
  },
  {
   "cell_type": "markdown",
   "metadata": {},
   "source": [
    "### 4.1 Interpretations - Low-Income + Low-Access Model  Logistic Regression\n",
    "- Urban Flag and Poverty Rate have most significant effects on our classification"
   ]
  },
  {
   "cell_type": "markdown",
   "metadata": {},
   "source": [
    "### 4.2 Low-Income + Low-Access Model - Random Forest"
   ]
  },
  {
   "cell_type": "code",
   "execution_count": 361,
   "metadata": {},
   "outputs": [
    {
     "name": "stdout",
     "output_type": "stream",
     "text": [
      "Training Accuracy: 0.99669.\n",
      "Testing Accuracy: 0.87147.\n"
     ]
    }
   ],
   "source": [
    "# Instantiate and fit Random Forest Classifier\n",
    "rfc = RandomForestClassifier(n_estimators=20)\n",
    "rfc.fit(X_train, y_train)\n",
    "# Print Training and Testing Accuracy Scores\n",
    "print(f'Training Accuracy: {round(rfc.score(X_train, y_train),5)}.')\n",
    "print(f'Testing Accuracy: {round(rfc.score(X_test, y_test),5)}.')"
   ]
  },
  {
   "cell_type": "code",
   "execution_count": 367,
   "metadata": {},
   "outputs": [
    {
     "data": {
      "text/html": [
       "<div>\n",
       "<style scoped>\n",
       "    .dataframe tbody tr th:only-of-type {\n",
       "        vertical-align: middle;\n",
       "    }\n",
       "\n",
       "    .dataframe tbody tr th {\n",
       "        vertical-align: top;\n",
       "    }\n",
       "\n",
       "    .dataframe thead th {\n",
       "        text-align: right;\n",
       "    }\n",
       "</style>\n",
       "<table border=\"1\" class=\"dataframe\">\n",
       "  <thead>\n",
       "    <tr style=\"text-align: right;\">\n",
       "      <th></th>\n",
       "      <th>Importance</th>\n",
       "    </tr>\n",
       "  </thead>\n",
       "  <tbody>\n",
       "    <tr>\n",
       "      <td>PovertyRate</td>\n",
       "      <td>0.268948</td>\n",
       "    </tr>\n",
       "    <tr>\n",
       "      <td>TractSNAP</td>\n",
       "      <td>0.156057</td>\n",
       "    </tr>\n",
       "    <tr>\n",
       "      <td>TractHUNV</td>\n",
       "      <td>0.119038</td>\n",
       "    </tr>\n",
       "    <tr>\n",
       "      <td>TractWhite</td>\n",
       "      <td>0.067863</td>\n",
       "    </tr>\n",
       "    <tr>\n",
       "      <td>TractBlack</td>\n",
       "      <td>0.059465</td>\n",
       "    </tr>\n",
       "    <tr>\n",
       "      <td>TractHispanic</td>\n",
       "      <td>0.057034</td>\n",
       "    </tr>\n",
       "    <tr>\n",
       "      <td>TractSeniors</td>\n",
       "      <td>0.054988</td>\n",
       "    </tr>\n",
       "    <tr>\n",
       "      <td>TractAsian</td>\n",
       "      <td>0.050992</td>\n",
       "    </tr>\n",
       "    <tr>\n",
       "      <td>OHU2010</td>\n",
       "      <td>0.049592</td>\n",
       "    </tr>\n",
       "    <tr>\n",
       "      <td>TractKids</td>\n",
       "      <td>0.047884</td>\n",
       "    </tr>\n",
       "    <tr>\n",
       "      <td>POP2010</td>\n",
       "      <td>0.043283</td>\n",
       "    </tr>\n",
       "    <tr>\n",
       "      <td>Urban</td>\n",
       "      <td>0.024856</td>\n",
       "    </tr>\n",
       "  </tbody>\n",
       "</table>\n",
       "</div>"
      ],
      "text/plain": [
       "               Importance\n",
       "PovertyRate      0.268948\n",
       "TractSNAP        0.156057\n",
       "TractHUNV        0.119038\n",
       "TractWhite       0.067863\n",
       "TractBlack       0.059465\n",
       "TractHispanic    0.057034\n",
       "TractSeniors     0.054988\n",
       "TractAsian       0.050992\n",
       "OHU2010          0.049592\n",
       "TractKids        0.047884\n",
       "POP2010          0.043283\n",
       "Urban            0.024856"
      ]
     },
     "execution_count": 367,
     "metadata": {},
     "output_type": "execute_result"
    }
   ],
   "source": [
    "#Interpretation - pull features into DataFrame\n",
    "features_df = pd.DataFrame(rfc.feature_importances_, X_train.columns, columns=['Importance'])\n",
    "features_df.sort_values('Importance', ascending = False)"
   ]
  },
  {
   "cell_type": "markdown",
   "metadata": {},
   "source": [
    "### 4.2 Findings - Low-Income + Low-Access Model Random Forest\n",
    "- Poverty Rate, SNAP units, and Vehicle Units are most significant features used by the model to determine Food Desert Status"
   ]
  },
  {
   "cell_type": "markdown",
   "metadata": {},
   "source": [
    "### 5.1 Combined Model + Geographic Cluster Logistic Regression"
   ]
  },
  {
   "cell_type": "code",
   "execution_count": 372,
   "metadata": {},
   "outputs": [],
   "source": [
    "# Use constructed Food Desert Flag as Target Vector\n",
    "y = census['fd_flag']\n",
    "\n",
    "features = ['POP2010',  'Urban', 'OHU2010',\n",
    "            'TractSNAP', 'PovertyRate', 'TractHUNV',\n",
    "            'TractKids', 'TractSeniors',\n",
    "           'TractBlack', 'TractHispanic',\n",
    "           'TractWhite', 'TractAsian',\n",
    "           'clusters']\n",
    "\n",
    "\n",
    "X = census[features]\n",
    "X = pd.get_dummies(columns=['clusters'], data = X)"
   ]
  },
  {
   "cell_type": "code",
   "execution_count": 373,
   "metadata": {},
   "outputs": [],
   "source": [
    "# Train-test-split our data\n",
    "X_train, X_test, y_train, y_test = train_test_split(X, y, test_size = 0.2, random_state = 42)"
   ]
  },
  {
   "cell_type": "code",
   "execution_count": 374,
   "metadata": {},
   "outputs": [
    {
     "name": "stdout",
     "output_type": "stream",
     "text": [
      "Training Score: 0.82759.\n",
      "Testing Score: 0.83435.\n"
     ]
    }
   ],
   "source": [
    "# Set up Logistic Regression\n",
    "lr = LogisticRegression(solver = 'liblinear')\n",
    "lr.fit(X_train, y_train)\n",
    "# Accuracy Scores for Training and Testing Sets\n",
    "print(f'Training Score: {round(lr.score(X_train, y_train),5)}.')\n",
    "print(f'Testing Score: {round(lr.score(X_test, y_test),5)}.')"
   ]
  },
  {
   "cell_type": "code",
   "execution_count": 380,
   "metadata": {},
   "outputs": [
    {
     "data": {
      "text/html": [
       "<div>\n",
       "<style scoped>\n",
       "    .dataframe tbody tr th:only-of-type {\n",
       "        vertical-align: middle;\n",
       "    }\n",
       "\n",
       "    .dataframe tbody tr th {\n",
       "        vertical-align: top;\n",
       "    }\n",
       "\n",
       "    .dataframe thead th {\n",
       "        text-align: right;\n",
       "    }\n",
       "</style>\n",
       "<table border=\"1\" class=\"dataframe\">\n",
       "  <thead>\n",
       "    <tr style=\"text-align: right;\">\n",
       "      <th></th>\n",
       "      <th>Importance</th>\n",
       "      <th>Absolute Val.</th>\n",
       "    </tr>\n",
       "  </thead>\n",
       "  <tbody>\n",
       "    <tr>\n",
       "      <td>clusters_3</td>\n",
       "      <td>-0.817444</td>\n",
       "      <td>0.817444</td>\n",
       "    </tr>\n",
       "    <tr>\n",
       "      <td>Urban</td>\n",
       "      <td>0.690838</td>\n",
       "      <td>0.690838</td>\n",
       "    </tr>\n",
       "    <tr>\n",
       "      <td>clusters_15</td>\n",
       "      <td>-0.320676</td>\n",
       "      <td>0.320676</td>\n",
       "    </tr>\n",
       "    <tr>\n",
       "      <td>clusters_4</td>\n",
       "      <td>-0.319730</td>\n",
       "      <td>0.319730</td>\n",
       "    </tr>\n",
       "    <tr>\n",
       "      <td>clusters_14</td>\n",
       "      <td>-0.299597</td>\n",
       "      <td>0.299597</td>\n",
       "    </tr>\n",
       "    <tr>\n",
       "      <td>clusters_13</td>\n",
       "      <td>-0.298752</td>\n",
       "      <td>0.298752</td>\n",
       "    </tr>\n",
       "    <tr>\n",
       "      <td>clusters_1</td>\n",
       "      <td>-0.268471</td>\n",
       "      <td>0.268471</td>\n",
       "    </tr>\n",
       "    <tr>\n",
       "      <td>clusters_5</td>\n",
       "      <td>-0.215713</td>\n",
       "      <td>0.215713</td>\n",
       "    </tr>\n",
       "    <tr>\n",
       "      <td>clusters_9</td>\n",
       "      <td>-0.142472</td>\n",
       "      <td>0.142472</td>\n",
       "    </tr>\n",
       "    <tr>\n",
       "      <td>clusters_18</td>\n",
       "      <td>-0.108380</td>\n",
       "      <td>0.108380</td>\n",
       "    </tr>\n",
       "    <tr>\n",
       "      <td>clusters_7</td>\n",
       "      <td>0.104309</td>\n",
       "      <td>0.104309</td>\n",
       "    </tr>\n",
       "    <tr>\n",
       "      <td>clusters_8</td>\n",
       "      <td>-0.082309</td>\n",
       "      <td>0.082309</td>\n",
       "    </tr>\n",
       "    <tr>\n",
       "      <td>PovertyRate</td>\n",
       "      <td>0.079407</td>\n",
       "      <td>0.079407</td>\n",
       "    </tr>\n",
       "    <tr>\n",
       "      <td>clusters_6</td>\n",
       "      <td>-0.074357</td>\n",
       "      <td>0.074357</td>\n",
       "    </tr>\n",
       "    <tr>\n",
       "      <td>clusters_16</td>\n",
       "      <td>0.056810</td>\n",
       "      <td>0.056810</td>\n",
       "    </tr>\n",
       "    <tr>\n",
       "      <td>clusters_0</td>\n",
       "      <td>0.046017</td>\n",
       "      <td>0.046017</td>\n",
       "    </tr>\n",
       "    <tr>\n",
       "      <td>clusters_10</td>\n",
       "      <td>0.042825</td>\n",
       "      <td>0.042825</td>\n",
       "    </tr>\n",
       "    <tr>\n",
       "      <td>clusters_17</td>\n",
       "      <td>-0.030047</td>\n",
       "      <td>0.030047</td>\n",
       "    </tr>\n",
       "    <tr>\n",
       "      <td>clusters_12</td>\n",
       "      <td>-0.021268</td>\n",
       "      <td>0.021268</td>\n",
       "    </tr>\n",
       "    <tr>\n",
       "      <td>clusters_19</td>\n",
       "      <td>0.010933</td>\n",
       "      <td>0.010933</td>\n",
       "    </tr>\n",
       "    <tr>\n",
       "      <td>clusters_11</td>\n",
       "      <td>0.007951</td>\n",
       "      <td>0.007951</td>\n",
       "    </tr>\n",
       "    <tr>\n",
       "      <td>clusters_2</td>\n",
       "      <td>0.007752</td>\n",
       "      <td>0.007752</td>\n",
       "    </tr>\n",
       "    <tr>\n",
       "      <td>TractSNAP</td>\n",
       "      <td>0.006174</td>\n",
       "      <td>0.006174</td>\n",
       "    </tr>\n",
       "    <tr>\n",
       "      <td>TractHUNV</td>\n",
       "      <td>-0.004731</td>\n",
       "      <td>0.004731</td>\n",
       "    </tr>\n",
       "    <tr>\n",
       "      <td>TractKids</td>\n",
       "      <td>-0.001077</td>\n",
       "      <td>0.001077</td>\n",
       "    </tr>\n",
       "    <tr>\n",
       "      <td>TractAsian</td>\n",
       "      <td>-0.000928</td>\n",
       "      <td>0.000928</td>\n",
       "    </tr>\n",
       "    <tr>\n",
       "      <td>TractWhite</td>\n",
       "      <td>-0.000715</td>\n",
       "      <td>0.000715</td>\n",
       "    </tr>\n",
       "    <tr>\n",
       "      <td>POP2010</td>\n",
       "      <td>0.000542</td>\n",
       "      <td>0.000542</td>\n",
       "    </tr>\n",
       "    <tr>\n",
       "      <td>OHU2010</td>\n",
       "      <td>0.000416</td>\n",
       "      <td>0.000416</td>\n",
       "    </tr>\n",
       "    <tr>\n",
       "      <td>TractBlack</td>\n",
       "      <td>-0.000391</td>\n",
       "      <td>0.000391</td>\n",
       "    </tr>\n",
       "    <tr>\n",
       "      <td>TractSeniors</td>\n",
       "      <td>0.000050</td>\n",
       "      <td>0.000050</td>\n",
       "    </tr>\n",
       "    <tr>\n",
       "      <td>TractHispanic</td>\n",
       "      <td>0.000005</td>\n",
       "      <td>0.000005</td>\n",
       "    </tr>\n",
       "  </tbody>\n",
       "</table>\n",
       "</div>"
      ],
      "text/plain": [
       "               Importance  Absolute Val.\n",
       "clusters_3      -0.817444       0.817444\n",
       "Urban            0.690838       0.690838\n",
       "clusters_15     -0.320676       0.320676\n",
       "clusters_4      -0.319730       0.319730\n",
       "clusters_14     -0.299597       0.299597\n",
       "clusters_13     -0.298752       0.298752\n",
       "clusters_1      -0.268471       0.268471\n",
       "clusters_5      -0.215713       0.215713\n",
       "clusters_9      -0.142472       0.142472\n",
       "clusters_18     -0.108380       0.108380\n",
       "clusters_7       0.104309       0.104309\n",
       "clusters_8      -0.082309       0.082309\n",
       "PovertyRate      0.079407       0.079407\n",
       "clusters_6      -0.074357       0.074357\n",
       "clusters_16      0.056810       0.056810\n",
       "clusters_0       0.046017       0.046017\n",
       "clusters_10      0.042825       0.042825\n",
       "clusters_17     -0.030047       0.030047\n",
       "clusters_12     -0.021268       0.021268\n",
       "clusters_19      0.010933       0.010933\n",
       "clusters_11      0.007951       0.007951\n",
       "clusters_2       0.007752       0.007752\n",
       "TractSNAP        0.006174       0.006174\n",
       "TractHUNV       -0.004731       0.004731\n",
       "TractKids       -0.001077       0.001077\n",
       "TractAsian      -0.000928       0.000928\n",
       "TractWhite      -0.000715       0.000715\n",
       "POP2010          0.000542       0.000542\n",
       "OHU2010          0.000416       0.000416\n",
       "TractBlack      -0.000391       0.000391\n",
       "TractSeniors     0.000050       0.000050\n",
       "TractHispanic    0.000005       0.000005"
      ]
     },
     "execution_count": 380,
     "metadata": {},
     "output_type": "execute_result"
    }
   ],
   "source": [
    "#Interpretation - pull cefficients into DataFrame\n",
    "features_df = pd.DataFrame(lr.coef_.T, X_train.columns, columns=['Importance'])\n",
    "features_df.sort_values('Importance', ascending = False)\n",
    "features_df['Absolute Val.'] = np.absolute(features_df['Importance'])\n",
    "features_df.sort_values(by='Absolute Val.', ascending = False)\n"
   ]
  },
  {
   "cell_type": "markdown",
   "metadata": {},
   "source": [
    "### 5.1 Interpretations - Combined + Cluster Logistic Regresssion\n",
    "- Clusters 3, 15, 4, 14, 13, 1, 5 are negatively associated with Food Desert status\n",
    "- Urban flag and Poverty Rate are still most significant features positively predicting Food Desert status\n",
    "- Clusters 7, 16 are most significant positive predictors of Food Desert status"
   ]
  },
  {
   "cell_type": "markdown",
   "metadata": {},
   "source": [
    "### 5.2 Combined + Clustered Random Forest"
   ]
  },
  {
   "cell_type": "code",
   "execution_count": 376,
   "metadata": {},
   "outputs": [
    {
     "name": "stdout",
     "output_type": "stream",
     "text": [
      "Training Accuracy: 0.9972.\n",
      "Testing Accuracy: 0.87298.\n"
     ]
    }
   ],
   "source": [
    "# Instantiate and fit Random Forest Classifier\n",
    "rfc = RandomForestClassifier(n_estimators=20)\n",
    "rfc.fit(X_train, y_train)\n",
    "# Print Training and Testing Accuracy Scores\n",
    "print(f'Training Accuracy: {round(rfc.score(X_train, y_train),5)}.')\n",
    "print(f'Testing Accuracy: {round(rfc.score(X_test, y_test),5)}.')"
   ]
  },
  {
   "cell_type": "code",
   "execution_count": 379,
   "metadata": {},
   "outputs": [
    {
     "data": {
      "text/html": [
       "<div>\n",
       "<style scoped>\n",
       "    .dataframe tbody tr th:only-of-type {\n",
       "        vertical-align: middle;\n",
       "    }\n",
       "\n",
       "    .dataframe tbody tr th {\n",
       "        vertical-align: top;\n",
       "    }\n",
       "\n",
       "    .dataframe thead th {\n",
       "        text-align: right;\n",
       "    }\n",
       "</style>\n",
       "<table border=\"1\" class=\"dataframe\">\n",
       "  <thead>\n",
       "    <tr style=\"text-align: right;\">\n",
       "      <th></th>\n",
       "      <th>PovertyRate</th>\n",
       "      <th>TractSNAP</th>\n",
       "      <th>TractHUNV</th>\n",
       "      <th>TractBlack</th>\n",
       "      <th>TractWhite</th>\n",
       "      <th>TractHispanic</th>\n",
       "      <th>TractAsian</th>\n",
       "      <th>TractSeniors</th>\n",
       "      <th>TractKids</th>\n",
       "      <th>OHU2010</th>\n",
       "      <th>...</th>\n",
       "      <th>clusters_0</th>\n",
       "      <th>clusters_2</th>\n",
       "      <th>clusters_5</th>\n",
       "      <th>clusters_18</th>\n",
       "      <th>clusters_7</th>\n",
       "      <th>clusters_17</th>\n",
       "      <th>clusters_8</th>\n",
       "      <th>clusters_19</th>\n",
       "      <th>clusters_11</th>\n",
       "      <th>clusters_6</th>\n",
       "    </tr>\n",
       "  </thead>\n",
       "  <tbody>\n",
       "    <tr>\n",
       "      <td>Importance</td>\n",
       "      <td>0.247035</td>\n",
       "      <td>0.142597</td>\n",
       "      <td>0.110475</td>\n",
       "      <td>0.058638</td>\n",
       "      <td>0.058229</td>\n",
       "      <td>0.054265</td>\n",
       "      <td>0.05395</td>\n",
       "      <td>0.050022</td>\n",
       "      <td>0.047393</td>\n",
       "      <td>0.046061</td>\n",
       "      <td>...</td>\n",
       "      <td>0.002376</td>\n",
       "      <td>0.002257</td>\n",
       "      <td>0.002101</td>\n",
       "      <td>0.001962</td>\n",
       "      <td>0.001953</td>\n",
       "      <td>0.001777</td>\n",
       "      <td>0.00145</td>\n",
       "      <td>0.001226</td>\n",
       "      <td>0.000386</td>\n",
       "      <td>0.000323</td>\n",
       "    </tr>\n",
       "    <tr>\n",
       "      <td>Absolute Val.</td>\n",
       "      <td>0.247035</td>\n",
       "      <td>0.142597</td>\n",
       "      <td>0.110475</td>\n",
       "      <td>0.058638</td>\n",
       "      <td>0.058229</td>\n",
       "      <td>0.054265</td>\n",
       "      <td>0.05395</td>\n",
       "      <td>0.050022</td>\n",
       "      <td>0.047393</td>\n",
       "      <td>0.046061</td>\n",
       "      <td>...</td>\n",
       "      <td>0.002376</td>\n",
       "      <td>0.002257</td>\n",
       "      <td>0.002101</td>\n",
       "      <td>0.001962</td>\n",
       "      <td>0.001953</td>\n",
       "      <td>0.001777</td>\n",
       "      <td>0.00145</td>\n",
       "      <td>0.001226</td>\n",
       "      <td>0.000386</td>\n",
       "      <td>0.000323</td>\n",
       "    </tr>\n",
       "  </tbody>\n",
       "</table>\n",
       "<p>2 rows × 32 columns</p>\n",
       "</div>"
      ],
      "text/plain": [
       "               PovertyRate  TractSNAP  TractHUNV  TractBlack  TractWhite  \\\n",
       "Importance        0.247035   0.142597   0.110475    0.058638    0.058229   \n",
       "Absolute Val.     0.247035   0.142597   0.110475    0.058638    0.058229   \n",
       "\n",
       "               TractHispanic  TractAsian  TractSeniors  TractKids   OHU2010  \\\n",
       "Importance          0.054265     0.05395      0.050022   0.047393  0.046061   \n",
       "Absolute Val.       0.054265     0.05395      0.050022   0.047393  0.046061   \n",
       "\n",
       "               ...  clusters_0  clusters_2  clusters_5  clusters_18  \\\n",
       "Importance     ...    0.002376    0.002257    0.002101     0.001962   \n",
       "Absolute Val.  ...    0.002376    0.002257    0.002101     0.001962   \n",
       "\n",
       "               clusters_7  clusters_17  clusters_8  clusters_19  clusters_11  \\\n",
       "Importance       0.001953     0.001777     0.00145     0.001226     0.000386   \n",
       "Absolute Val.    0.001953     0.001777     0.00145     0.001226     0.000386   \n",
       "\n",
       "               clusters_6  \n",
       "Importance       0.000323  \n",
       "Absolute Val.    0.000323  \n",
       "\n",
       "[2 rows x 32 columns]"
      ]
     },
     "execution_count": 379,
     "metadata": {},
     "output_type": "execute_result"
    }
   ],
   "source": [
    "#Interpretation - pull cefficients into DataFrame\n",
    "features_df = pd.DataFrame(rfc.feature_importances_.T, X_train.columns, columns=['Importance'])\n",
    "features_df.sort_values('Importance', ascending = False)\n",
    "features_df['Absolute Val.'] = np.absolute(features_df['Importance'])\n",
    "features_df.sort_values(by='Absolute Val.', ascending = False).T\n"
   ]
  },
  {
   "cell_type": "markdown",
   "metadata": {},
   "source": [
    "### 5.2 Interpretations Combined + Clustered Random Forest\n",
    "- Geographic Clusters do not have as much significance as in 5.1 Logistic Regression\n",
    "- Features are consistent with 4.2 Random Forest\n",
    "- With respect to cluster features considered, 5.2 similarily identifies clusters 3, 4, 13, 1, and 16 as significant, in addition to 12 and 14"
   ]
  },
  {
   "cell_type": "code",
   "execution_count": null,
   "metadata": {},
   "outputs": [],
   "source": []
  }
 ],
 "metadata": {
  "kernelspec": {
   "display_name": "Python 3",
   "language": "python",
   "name": "python3"
  },
  "language_info": {
   "codemirror_mode": {
    "name": "ipython",
    "version": 3
   },
   "file_extension": ".py",
   "mimetype": "text/x-python",
   "name": "python",
   "nbconvert_exporter": "python",
   "pygments_lexer": "ipython3",
   "version": "3.7.4"
  }
 },
 "nbformat": 4,
 "nbformat_minor": 2
}
