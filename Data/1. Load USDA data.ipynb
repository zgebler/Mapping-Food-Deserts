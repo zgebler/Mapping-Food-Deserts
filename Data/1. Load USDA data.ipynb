{
 "cells": [
  {
   "cell_type": "markdown",
   "metadata": {},
   "source": [
    "# Loading Data \n",
    "### USDA-ERS Food Access Atlas and Food Environment Atlas"
   ]
  },
  {
   "cell_type": "code",
   "execution_count": 16,
   "metadata": {},
   "outputs": [],
   "source": [
    "# Import Libraries\n",
    "import pandas as pd\n",
    "pd.set_option('display.max_rows', 500)"
   ]
  },
  {
   "cell_type": "markdown",
   "metadata": {},
   "source": [
    "### Food Access Atlas - Census Level Data"
   ]
  },
  {
   "cell_type": "code",
   "execution_count": 30,
   "metadata": {},
   "outputs": [
    {
     "data": {
      "text/plain": [
       "odict_keys(['Read Me', 'Variable Lookup', 'Food Access Research Atlas'])"
      ]
     },
     "execution_count": 30,
     "metadata": {},
     "output_type": "execute_result"
    }
   ],
   "source": [
    "# Food Access Atlas\n",
    "acc_df = pd.read_excel(\"./data/Access.xlsx\", sheet_name=None)\n",
    "acc_df.keys()"
   ]
  },
  {
   "cell_type": "code",
   "execution_count": 25,
   "metadata": {},
   "outputs": [
    {
     "data": {
      "text/plain": [
       "(72864, 149)"
      ]
     },
     "execution_count": 25,
     "metadata": {},
     "output_type": "execute_result"
    }
   ],
   "source": [
    "census = acc_df['Food Access Research Atlas']\n",
    "census.shape"
   ]
  },
  {
   "cell_type": "code",
   "execution_count": 27,
   "metadata": {},
   "outputs": [
    {
     "data": {
      "text/plain": [
       "1    0.720068\n",
       "0    0.279932\n",
       "Name: la_flag, dtype: float64"
      ]
     },
     "execution_count": 27,
     "metadata": {},
     "output_type": "execute_result"
    }
   ],
   "source": [
    "# Make Flag for Low-Access Tracts\n",
    "census['la_flag'] = (census['LA1and10'] == 1) | (census['LA1and20'] == 1) | (census['LAhalfand10'] == 1) | (census['LATracts_half'] == 1) | (census['LATracts1'] == 1) | (census['LATracts10'] == 1 )| (census['LATracts20'] == 1) | (census['LATractsVehicle_20'] == 1)\n",
    "census['la_flag'] = np.multiply(census['la_flag'], 1)\n",
    "census['la_flag'].value_counts(normalize= True)"
   ]
  },
  {
   "cell_type": "code",
   "execution_count": 28,
   "metadata": {},
   "outputs": [
    {
     "data": {
      "text/plain": [
       "0    0.696338\n",
       "1    0.303662\n",
       "Name: fd_flag, dtype: float64"
      ]
     },
     "execution_count": 28,
     "metadata": {},
     "output_type": "execute_result"
    }
   ],
   "source": [
    "# Create Food Desert Flag \n",
    "census['fd_flag'] = (census['LILATracts_1And10'] == 1) | (census['LILATracts_1And20'] == 1) | (census['LILATracts_Vehicle'] == 1) | (census['LILATracts_halfAnd10'] == 1) \n",
    "census['fd_flag'] = np.multiply(census['fd_flag'], 1)\n",
    "census['fd_flag'].value_counts(normalize = True)"
   ]
  },
  {
   "cell_type": "code",
   "execution_count": 29,
   "metadata": {},
   "outputs": [],
   "source": [
    "# Save Census data\n",
    "census.to_csv(\"data/census.csv\")"
   ]
  },
  {
   "cell_type": "code",
   "execution_count": null,
   "metadata": {},
   "outputs": [],
   "source": []
  },
  {
   "cell_type": "code",
   "execution_count": null,
   "metadata": {},
   "outputs": [],
   "source": []
  },
  {
   "cell_type": "markdown",
   "metadata": {},
   "source": [
    "### Food Environment Atlas - County Level Data"
   ]
  },
  {
   "cell_type": "code",
   "execution_count": 18,
   "metadata": {},
   "outputs": [
    {
     "data": {
      "text/plain": [
       "odict_keys(['Read_Me', 'Variable List', 'Supplemental Data - County', 'Supplemental Data - State', 'ACCESS', 'STORES', 'RESTAURANTS', 'ASSISTANCE', 'INSECURITY', 'PRICES_TAXES', 'LOCAL', 'HEALTH', 'SOCIOECONOMIC'])"
      ]
     },
     "execution_count": 18,
     "metadata": {},
     "output_type": "execute_result"
    }
   ],
   "source": [
    "#  Load Food Environment Atlas (ENV)\n",
    "env_df = pd.read_excel('./data/Environment.xls', sheet_name=None)\n",
    "env_df.keys()"
   ]
  },
  {
   "cell_type": "markdown",
   "metadata": {},
   "source": [
    "### Loading Each Page into a Data Frame"
   ]
  },
  {
   "cell_type": "code",
   "execution_count": 19,
   "metadata": {},
   "outputs": [],
   "source": [
    "# Access variables\n",
    "access = env_df['ACCESS']\n",
    "insecurity = env_df['INSECURITY']\n",
    "local = env_df['LOCAL']\n",
    "assistance = env_df['ASSISTANCE']\n",
    "stores = env_df['STORES']\n",
    "restaurants = env_df['RESTAURANTS']\n",
    "socioeconomic = env_df['SOCIOECONOMIC']\n",
    "health = env_df['HEALTH']\n",
    "prices_taxes = env_df['PRICES_TAXES']\n",
    "supp_counties = env_df['Supplemental Data - County']\n",
    "supp_state = env_df['Supplemental Data - State']"
   ]
  },
  {
   "cell_type": "code",
   "execution_count": 20,
   "metadata": {},
   "outputs": [],
   "source": [
    "# Create County Level Data Set\n",
    "dfs = [access, insecurity, health, local, restaurants, socioeconomic, health, stores, assistance, supp_counties]\n",
    "\n",
    "county = pd.concat(dfs, axis  = 1, join = 'inner', copy = False)"
   ]
  },
  {
   "cell_type": "code",
   "execution_count": 21,
   "metadata": {},
   "outputs": [
    {
     "data": {
      "text/plain": [
       "(3142, 317)"
      ]
     },
     "execution_count": 21,
     "metadata": {},
     "output_type": "execute_result"
    }
   ],
   "source": [
    "county.shape"
   ]
  },
  {
   "cell_type": "code",
   "execution_count": 22,
   "metadata": {},
   "outputs": [],
   "source": [
    "# Remove Duplicated Columns\n",
    "\n",
    "county = county.loc[:,~county.columns.duplicated()]\n",
    "\n",
    "# Drop second FIPS column\n",
    "county.drop(columns = 'FIPS ', inplace = True)\n"
   ]
  },
  {
   "cell_type": "code",
   "execution_count": 23,
   "metadata": {},
   "outputs": [
    {
     "data": {
      "text/html": [
       "<div>\n",
       "<style scoped>\n",
       "    .dataframe tbody tr th:only-of-type {\n",
       "        vertical-align: middle;\n",
       "    }\n",
       "\n",
       "    .dataframe tbody tr th {\n",
       "        vertical-align: top;\n",
       "    }\n",
       "\n",
       "    .dataframe thead th {\n",
       "        text-align: right;\n",
       "    }\n",
       "</style>\n",
       "<table border=\"1\" class=\"dataframe\">\n",
       "  <thead>\n",
       "    <tr style=\"text-align: right;\">\n",
       "      <th></th>\n",
       "      <th>FIPS</th>\n",
       "      <th>State</th>\n",
       "      <th>County</th>\n",
       "      <th>LACCESS_POP10</th>\n",
       "      <th>LACCESS_POP15</th>\n",
       "      <th>PCH_LACCESS_POP_10_15</th>\n",
       "      <th>PCT_LACCESS_POP10</th>\n",
       "      <th>PCT_LACCESS_POP15</th>\n",
       "      <th>LACCESS_LOWI10</th>\n",
       "      <th>LACCESS_LOWI15</th>\n",
       "      <th>...</th>\n",
       "      <th>PCT_CACFP15</th>\n",
       "      <th>PCH_CACFP_09_15</th>\n",
       "      <th>FDPIR12</th>\n",
       "      <th>2010 Census Population</th>\n",
       "      <th>Population Estimate, 2011</th>\n",
       "      <th>Population Estimate, 2012</th>\n",
       "      <th>Population Estimate, 2013</th>\n",
       "      <th>Population Estimate, 2014</th>\n",
       "      <th>Population Estimate, 2015</th>\n",
       "      <th>Population Estimate, 2016</th>\n",
       "    </tr>\n",
       "  </thead>\n",
       "  <tbody>\n",
       "    <tr>\n",
       "      <td>0</td>\n",
       "      <td>1001</td>\n",
       "      <td>AL</td>\n",
       "      <td>Autauga</td>\n",
       "      <td>18428.439685</td>\n",
       "      <td>17496.693038</td>\n",
       "      <td>-5.056026</td>\n",
       "      <td>33.769657</td>\n",
       "      <td>32.062255</td>\n",
       "      <td>5344.427472</td>\n",
       "      <td>6543.676824</td>\n",
       "      <td>...</td>\n",
       "      <td>1.055597</td>\n",
       "      <td>0.139507</td>\n",
       "      <td>0</td>\n",
       "      <td>54,571</td>\n",
       "      <td>55,255</td>\n",
       "      <td>55,027</td>\n",
       "      <td>54,792</td>\n",
       "      <td>54,977</td>\n",
       "      <td>55,035</td>\n",
       "      <td>55,416</td>\n",
       "    </tr>\n",
       "    <tr>\n",
       "      <td>1</td>\n",
       "      <td>1003</td>\n",
       "      <td>AL</td>\n",
       "      <td>Baldwin</td>\n",
       "      <td>35210.814078</td>\n",
       "      <td>30561.264430</td>\n",
       "      <td>-13.204891</td>\n",
       "      <td>19.318473</td>\n",
       "      <td>16.767489</td>\n",
       "      <td>9952.144027</td>\n",
       "      <td>9886.831137</td>\n",
       "      <td>...</td>\n",
       "      <td>1.055597</td>\n",
       "      <td>0.139507</td>\n",
       "      <td>0</td>\n",
       "      <td>182,265</td>\n",
       "      <td>186,653</td>\n",
       "      <td>190,403</td>\n",
       "      <td>195,147</td>\n",
       "      <td>199,745</td>\n",
       "      <td>203,690</td>\n",
       "      <td>208,563</td>\n",
       "    </tr>\n",
       "    <tr>\n",
       "      <td>2</td>\n",
       "      <td>1005</td>\n",
       "      <td>AL</td>\n",
       "      <td>Barbour</td>\n",
       "      <td>5722.305602</td>\n",
       "      <td>6069.523628</td>\n",
       "      <td>6.067799</td>\n",
       "      <td>20.840972</td>\n",
       "      <td>22.105560</td>\n",
       "      <td>3135.676086</td>\n",
       "      <td>2948.790251</td>\n",
       "      <td>...</td>\n",
       "      <td>1.055597</td>\n",
       "      <td>0.139507</td>\n",
       "      <td>0</td>\n",
       "      <td>27,457</td>\n",
       "      <td>27,326</td>\n",
       "      <td>27,132</td>\n",
       "      <td>26,938</td>\n",
       "      <td>26,763</td>\n",
       "      <td>26,270</td>\n",
       "      <td>25,965</td>\n",
       "    </tr>\n",
       "    <tr>\n",
       "      <td>3</td>\n",
       "      <td>1007</td>\n",
       "      <td>AL</td>\n",
       "      <td>Bibb</td>\n",
       "      <td>1044.867327</td>\n",
       "      <td>969.378841</td>\n",
       "      <td>-7.224696</td>\n",
       "      <td>4.559753</td>\n",
       "      <td>4.230324</td>\n",
       "      <td>491.449066</td>\n",
       "      <td>596.162829</td>\n",
       "      <td>...</td>\n",
       "      <td>1.055597</td>\n",
       "      <td>0.139507</td>\n",
       "      <td>0</td>\n",
       "      <td>22,915</td>\n",
       "      <td>22,736</td>\n",
       "      <td>22,645</td>\n",
       "      <td>22,501</td>\n",
       "      <td>22,511</td>\n",
       "      <td>22,561</td>\n",
       "      <td>22,643</td>\n",
       "    </tr>\n",
       "    <tr>\n",
       "      <td>4</td>\n",
       "      <td>1009</td>\n",
       "      <td>AL</td>\n",
       "      <td>Blount</td>\n",
       "      <td>1548.175559</td>\n",
       "      <td>3724.428242</td>\n",
       "      <td>140.568857</td>\n",
       "      <td>2.700840</td>\n",
       "      <td>6.497380</td>\n",
       "      <td>609.027708</td>\n",
       "      <td>1650.959482</td>\n",
       "      <td>...</td>\n",
       "      <td>1.055597</td>\n",
       "      <td>0.139507</td>\n",
       "      <td>0</td>\n",
       "      <td>57,322</td>\n",
       "      <td>57,707</td>\n",
       "      <td>57,772</td>\n",
       "      <td>57,746</td>\n",
       "      <td>57,621</td>\n",
       "      <td>57,676</td>\n",
       "      <td>57,704</td>\n",
       "    </tr>\n",
       "  </tbody>\n",
       "</table>\n",
       "<p>5 rows × 279 columns</p>\n",
       "</div>"
      ],
      "text/plain": [
       "   FIPS State   County  LACCESS_POP10  LACCESS_POP15  PCH_LACCESS_POP_10_15  \\\n",
       "0  1001    AL  Autauga   18428.439685   17496.693038              -5.056026   \n",
       "1  1003    AL  Baldwin   35210.814078   30561.264430             -13.204891   \n",
       "2  1005    AL  Barbour    5722.305602    6069.523628               6.067799   \n",
       "3  1007    AL     Bibb    1044.867327     969.378841              -7.224696   \n",
       "4  1009    AL   Blount    1548.175559    3724.428242             140.568857   \n",
       "\n",
       "   PCT_LACCESS_POP10  PCT_LACCESS_POP15  LACCESS_LOWI10  LACCESS_LOWI15  ...  \\\n",
       "0          33.769657          32.062255     5344.427472     6543.676824  ...   \n",
       "1          19.318473          16.767489     9952.144027     9886.831137  ...   \n",
       "2          20.840972          22.105560     3135.676086     2948.790251  ...   \n",
       "3           4.559753           4.230324      491.449066      596.162829  ...   \n",
       "4           2.700840           6.497380      609.027708     1650.959482  ...   \n",
       "\n",
       "   PCT_CACFP15  PCH_CACFP_09_15  FDPIR12  2010 Census Population  \\\n",
       "0     1.055597         0.139507        0                  54,571   \n",
       "1     1.055597         0.139507        0                 182,265   \n",
       "2     1.055597         0.139507        0                  27,457   \n",
       "3     1.055597         0.139507        0                  22,915   \n",
       "4     1.055597         0.139507        0                  57,322   \n",
       "\n",
       "   Population Estimate, 2011  Population Estimate, 2012  \\\n",
       "0                     55,255                     55,027   \n",
       "1                    186,653                    190,403   \n",
       "2                     27,326                     27,132   \n",
       "3                     22,736                     22,645   \n",
       "4                     57,707                     57,772   \n",
       "\n",
       "   Population Estimate, 2013  Population Estimate, 2014  \\\n",
       "0                     54,792                     54,977   \n",
       "1                    195,147                    199,745   \n",
       "2                     26,938                     26,763   \n",
       "3                     22,501                     22,511   \n",
       "4                     57,746                     57,621   \n",
       "\n",
       "   Population Estimate, 2015  Population Estimate, 2016  \n",
       "0                     55,035                     55,416  \n",
       "1                    203,690                    208,563  \n",
       "2                     26,270                     25,965  \n",
       "3                     22,561                     22,643  \n",
       "4                     57,676                     57,704  \n",
       "\n",
       "[5 rows x 279 columns]"
      ]
     },
     "execution_count": 23,
     "metadata": {},
     "output_type": "execute_result"
    }
   ],
   "source": [
    "county.head()"
   ]
  },
  {
   "cell_type": "code",
   "execution_count": 24,
   "metadata": {},
   "outputs": [],
   "source": [
    "# Save County Data\n",
    "county.to_csv(\"data/county.csv\")"
   ]
  },
  {
   "cell_type": "code",
   "execution_count": null,
   "metadata": {},
   "outputs": [],
   "source": []
  },
  {
   "cell_type": "code",
   "execution_count": null,
   "metadata": {},
   "outputs": [],
   "source": []
  },
  {
   "cell_type": "code",
   "execution_count": null,
   "metadata": {},
   "outputs": [],
   "source": []
  },
  {
   "cell_type": "code",
   "execution_count": null,
   "metadata": {},
   "outputs": [],
   "source": []
  }
 ],
 "metadata": {
  "kernelspec": {
   "display_name": "Python 3",
   "language": "python",
   "name": "python3"
  },
  "language_info": {
   "codemirror_mode": {
    "name": "ipython",
    "version": 3
   },
   "file_extension": ".py",
   "mimetype": "text/x-python",
   "name": "python",
   "nbconvert_exporter": "python",
   "pygments_lexer": "ipython3",
   "version": "3.7.4"
  }
 },
 "nbformat": 4,
 "nbformat_minor": 2
}
