{
 "cells": [
  {
   "cell_type": "markdown",
   "metadata": {},
   "source": [
    "### Reverse Engineering, Feature Selection, and Classification"
   ]
  },
  {
   "cell_type": "code",
   "execution_count": 158,
   "metadata": {},
   "outputs": [],
   "source": [
    "import pandas as pd\n",
    "import numpy as np\n",
    "import matplotlib.pyplot as plt\n",
    "import seaborn as sns\n",
    "\n",
    "# Import from sklearn.\n",
    "from sklearn.model_selection import train_test_split\n",
    "from sklearn.linear_model import LogisticRegression\n",
    "from sklearn.ensemble import RandomForestClassifier\n",
    "\n",
    "import statsmodels.api as sm\n",
    "\n",
    "\n",
    "pd.set_option('display.max_rows', 500)"
   ]
  },
  {
   "cell_type": "code",
   "execution_count": 247,
   "metadata": {},
   "outputs": [
    {
     "data": {
      "text/plain": [
       "(72864, 149)"
      ]
     },
     "execution_count": 247,
     "metadata": {},
     "output_type": "execute_result"
    }
   ],
   "source": [
    "# Load in census data\n",
    "census = pd.read_csv(\"data/census.csv\").drop(columns='Unnamed: 0')\n",
    "census.shape"
   ]
  },
  {
   "cell_type": "code",
   "execution_count": 248,
   "metadata": {},
   "outputs": [
    {
     "data": {
      "text/html": [
       "<div>\n",
       "<style scoped>\n",
       "    .dataframe tbody tr th:only-of-type {\n",
       "        vertical-align: middle;\n",
       "    }\n",
       "\n",
       "    .dataframe tbody tr th {\n",
       "        vertical-align: top;\n",
       "    }\n",
       "\n",
       "    .dataframe thead th {\n",
       "        text-align: right;\n",
       "    }\n",
       "</style>\n",
       "<table border=\"1\" class=\"dataframe\">\n",
       "  <thead>\n",
       "    <tr style=\"text-align: right;\">\n",
       "      <th>fd_flag</th>\n",
       "      <th>0</th>\n",
       "      <th>1</th>\n",
       "    </tr>\n",
       "  </thead>\n",
       "  <tbody>\n",
       "    <tr>\n",
       "      <td>POP2010</td>\n",
       "      <td>4285.77977</td>\n",
       "      <td>4126.07991</td>\n",
       "    </tr>\n",
       "    <tr>\n",
       "      <td>OHU2010</td>\n",
       "      <td>1633.39954</td>\n",
       "      <td>1529.46154</td>\n",
       "    </tr>\n",
       "    <tr>\n",
       "      <td>Urban</td>\n",
       "      <td>0.70823</td>\n",
       "      <td>0.86947</td>\n",
       "    </tr>\n",
       "    <tr>\n",
       "      <td>TractSNAP</td>\n",
       "      <td>150.91082</td>\n",
       "      <td>335.69344</td>\n",
       "    </tr>\n",
       "    <tr>\n",
       "      <td>PovertyRate</td>\n",
       "      <td>11.81266</td>\n",
       "      <td>27.46918</td>\n",
       "    </tr>\n",
       "    <tr>\n",
       "      <td>TractHUNV</td>\n",
       "      <td>129.16386</td>\n",
       "      <td>182.48762</td>\n",
       "    </tr>\n",
       "    <tr>\n",
       "      <td>TractKids</td>\n",
       "      <td>1010.61329</td>\n",
       "      <td>1035.20609</td>\n",
       "    </tr>\n",
       "    <tr>\n",
       "      <td>TractSeniors</td>\n",
       "      <td>580.17644</td>\n",
       "      <td>489.51424</td>\n",
       "    </tr>\n",
       "    <tr>\n",
       "      <td>TractBlack</td>\n",
       "      <td>376.57537</td>\n",
       "      <td>895.89795</td>\n",
       "    </tr>\n",
       "    <tr>\n",
       "      <td>TractHispanic</td>\n",
       "      <td>571.51989</td>\n",
       "      <td>970.79535</td>\n",
       "    </tr>\n",
       "    <tr>\n",
       "      <td>TractWhite</td>\n",
       "      <td>3314.01677</td>\n",
       "      <td>2504.14363</td>\n",
       "    </tr>\n",
       "    <tr>\n",
       "      <td>TractAsian</td>\n",
       "      <td>232.14399</td>\n",
       "      <td>130.87454</td>\n",
       "    </tr>\n",
       "  </tbody>\n",
       "</table>\n",
       "</div>"
      ],
      "text/plain": [
       "fd_flag                 0           1\n",
       "POP2010        4285.77977  4126.07991\n",
       "OHU2010        1633.39954  1529.46154\n",
       "Urban             0.70823     0.86947\n",
       "TractSNAP       150.91082   335.69344\n",
       "PovertyRate      11.81266    27.46918\n",
       "TractHUNV       129.16386   182.48762\n",
       "TractKids      1010.61329  1035.20609\n",
       "TractSeniors    580.17644   489.51424\n",
       "TractBlack      376.57537   895.89795\n",
       "TractHispanic   571.51989   970.79535\n",
       "TractWhite     3314.01677  2504.14363\n",
       "TractAsian      232.14399   130.87454"
      ]
     },
     "execution_count": 248,
     "metadata": {},
     "output_type": "execute_result"
    }
   ],
   "source": [
    "# Baseline Model\n",
    "census.groupby(by = 'fd_flag').agg({\n",
    "    'POP2010'      : 'mean',\n",
    "    'OHU2010'      : 'mean',\n",
    "    'Urban'        : 'mean',\n",
    "    'TractSNAP'    : 'mean',\n",
    "    'PovertyRate'  : 'mean',\n",
    "    'TractHUNV'    : 'mean',\n",
    "    'TractKids'    : 'mean',\n",
    "    'TractSeniors' : 'mean',\n",
    "    'TractBlack'   : 'mean',\n",
    "    'TractHispanic': 'mean',\n",
    "    'TractWhite'   : 'mean',\n",
    "    'TractAsian'   : 'mean'\n",
    "     \n",
    "}).T.round(5)"
   ]
  },
  {
   "cell_type": "markdown",
   "metadata": {},
   "source": [
    "### Interpretation of Baseline Model\n",
    "- Differences observed in Urban Flag, Household SNAP recipients, Poverty Rates, Vehicle Access, and Racial Demographics"
   ]
  },
  {
   "cell_type": "code",
   "execution_count": 160,
   "metadata": {},
   "outputs": [
    {
     "data": {
      "text/plain": [
       "LowIncomeTracts         1.000000\n",
       "fd_flag                 0.770212\n",
       "LILATracts_halfAnd10    0.731157\n",
       "PovertyRate             0.716020\n",
       "TractSNAP               0.532868\n",
       "dtype: float64"
      ]
     },
     "execution_count": 160,
     "metadata": {},
     "output_type": "execute_result"
    }
   ],
   "source": [
    "# Feature selection, look at correlations for low-income\n",
    "corr = census.corrwith(census['LowIncomeTracts'])\n",
    "corr.sort_values(ascending = False).head()"
   ]
  },
  {
   "cell_type": "code",
   "execution_count": 161,
   "metadata": {},
   "outputs": [
    {
     "data": {
      "text/plain": [
       "la_flag          1.000000\n",
       "LAhalfand10      0.914019\n",
       "LATracts_half    0.828551\n",
       "LAPOP05_10       0.605017\n",
       "LALOWI05_10      0.504786\n",
       "dtype: float64"
      ]
     },
     "execution_count": 161,
     "metadata": {},
     "output_type": "execute_result"
    }
   ],
   "source": [
    "# Feature selection, look at correlations for low-access\n",
    "corr = census.corrwith(census['la_flag'])\n",
    "corr.sort_values(ascending = False).head()"
   ]
  },
  {
   "cell_type": "code",
   "execution_count": 162,
   "metadata": {},
   "outputs": [
    {
     "data": {
      "text/plain": [
       "fd_flag                 1.000000\n",
       "LILATracts_halfAnd10    0.949293\n",
       "LowIncomeTracts         0.770212\n",
       "LILATracts_Vehicle      0.634062\n",
       "LILATracts_1And10       0.577265\n",
       "dtype: float64"
      ]
     },
     "execution_count": 162,
     "metadata": {},
     "output_type": "execute_result"
    }
   ],
   "source": [
    "# Feature selection, look for correlations with Food Desert\n",
    "corr = census.corrwith(census['fd_flag'])\n",
    "corr.sort_values(ascending = False).head()"
   ]
  },
  {
   "cell_type": "markdown",
   "metadata": {},
   "source": [
    "### Low Income Predicting Model - Logistic Regression"
   ]
  },
  {
   "cell_type": "code",
   "execution_count": 174,
   "metadata": {},
   "outputs": [],
   "source": [
    "# Set Low Income as our Target Vector\n",
    "y = census['LowIncomeTracts']\n",
    "# Select Demographic features from census data\n",
    "features = ['POP2010',  'Urban', 'OHU2010',\n",
    "            'TractSNAP', 'PovertyRate',\n",
    "            'TractKids', 'TractSeniors',\n",
    "           'TractBlack', 'TractHispanic',\n",
    "           'TractWhite', 'TractAsian']\n",
    "\n",
    "X = census[features]"
   ]
  },
  {
   "cell_type": "code",
   "execution_count": 175,
   "metadata": {},
   "outputs": [
    {
     "data": {
      "text/plain": [
       "0    0.576334\n",
       "1    0.423666\n",
       "Name: LowIncomeTracts, dtype: float64"
      ]
     },
     "execution_count": 175,
     "metadata": {},
     "output_type": "execute_result"
    }
   ],
   "source": [
    "# Check Baseline model\n",
    "y.value_counts(normalize = True)"
   ]
  },
  {
   "cell_type": "code",
   "execution_count": 176,
   "metadata": {},
   "outputs": [],
   "source": [
    "# Train/test split our data\n",
    "X_train, X_test, y_train, y_test = train_test_split(X, y, test_size = 0.2, random_state = 42)"
   ]
  },
  {
   "cell_type": "code",
   "execution_count": 179,
   "metadata": {},
   "outputs": [
    {
     "name": "stdout",
     "output_type": "stream",
     "text": [
      "Training Accuracy: 0.89259.\n",
      "Testing Accuracy: 0.89542.\n"
     ]
    }
   ],
   "source": [
    "# Instantiate and fit Logistic Regression\n",
    "lr = LogisticRegression(solver = 'liblinear')\n",
    "lr.fit(X_train, y_train)\n",
    "# Print Training and Testing Accuracy Scores\n",
    "print(f'Training Accuracy: {round(lr.score(X_train, y_train),5)}.')\n",
    "print(f'Testing Accuracy: {round(lr.score(X_test, y_test),5)}.')"
   ]
  },
  {
   "cell_type": "code",
   "execution_count": 180,
   "metadata": {},
   "outputs": [
    {
     "data": {
      "text/html": [
       "<div>\n",
       "<style scoped>\n",
       "    .dataframe tbody tr th:only-of-type {\n",
       "        vertical-align: middle;\n",
       "    }\n",
       "\n",
       "    .dataframe tbody tr th {\n",
       "        vertical-align: top;\n",
       "    }\n",
       "\n",
       "    .dataframe thead th {\n",
       "        text-align: right;\n",
       "    }\n",
       "</style>\n",
       "<table border=\"1\" class=\"dataframe\">\n",
       "  <thead>\n",
       "    <tr style=\"text-align: right;\">\n",
       "      <th></th>\n",
       "      <th>Importance</th>\n",
       "    </tr>\n",
       "  </thead>\n",
       "  <tbody>\n",
       "    <tr>\n",
       "      <td>PovertyRate</td>\n",
       "      <td>0.243638</td>\n",
       "    </tr>\n",
       "    <tr>\n",
       "      <td>TractSNAP</td>\n",
       "      <td>0.006807</td>\n",
       "    </tr>\n",
       "    <tr>\n",
       "      <td>POP2010</td>\n",
       "      <td>0.000619</td>\n",
       "    </tr>\n",
       "    <tr>\n",
       "      <td>TractSeniors</td>\n",
       "      <td>0.000134</td>\n",
       "    </tr>\n",
       "    <tr>\n",
       "      <td>TractHispanic</td>\n",
       "      <td>0.000104</td>\n",
       "    </tr>\n",
       "    <tr>\n",
       "      <td>OHU2010</td>\n",
       "      <td>-0.000332</td>\n",
       "    </tr>\n",
       "    <tr>\n",
       "      <td>TractKids</td>\n",
       "      <td>-0.000560</td>\n",
       "    </tr>\n",
       "    <tr>\n",
       "      <td>TractBlack</td>\n",
       "      <td>-0.000730</td>\n",
       "    </tr>\n",
       "    <tr>\n",
       "      <td>TractAsian</td>\n",
       "      <td>-0.000804</td>\n",
       "    </tr>\n",
       "    <tr>\n",
       "      <td>TractWhite</td>\n",
       "      <td>-0.001077</td>\n",
       "    </tr>\n",
       "    <tr>\n",
       "      <td>Urban</td>\n",
       "      <td>-0.040366</td>\n",
       "    </tr>\n",
       "  </tbody>\n",
       "</table>\n",
       "</div>"
      ],
      "text/plain": [
       "               Importance\n",
       "PovertyRate      0.243638\n",
       "TractSNAP        0.006807\n",
       "POP2010          0.000619\n",
       "TractSeniors     0.000134\n",
       "TractHispanic    0.000104\n",
       "OHU2010         -0.000332\n",
       "TractKids       -0.000560\n",
       "TractBlack      -0.000730\n",
       "TractAsian      -0.000804\n",
       "TractWhite      -0.001077\n",
       "Urban           -0.040366"
      ]
     },
     "execution_count": 180,
     "metadata": {},
     "output_type": "execute_result"
    }
   ],
   "source": [
    "#Interpretation - pull coefficients into a DataFrame\n",
    "features_df = pd.DataFrame(lr.coef_.T, X_train.columns, columns=['Importance'])\n",
    "features_df.sort_values('Importance', ascending = False)"
   ]
  },
  {
   "cell_type": "markdown",
   "metadata": {},
   "source": [
    "### Findings - Low Income Logistic Regression\n",
    "- Poverty Rate and Tract SNAP benefits have the strongest effect on a area being designated low-income"
   ]
  },
  {
   "cell_type": "markdown",
   "metadata": {},
   "source": [
    "### Low Income Predicting Model - Random Forest"
   ]
  },
  {
   "cell_type": "code",
   "execution_count": 181,
   "metadata": {},
   "outputs": [
    {
     "name": "stdout",
     "output_type": "stream",
     "text": [
      "Training Accuracy: 0.99722.\n",
      "Testing Accuracy: 0.90201.\n"
     ]
    }
   ],
   "source": [
    "# Instantiate and fit Random Forest Classifier\n",
    "rfc = RandomForestClassifier(n_estimators=20)\n",
    "rfc.fit(X_train, y_train)\n",
    "# Print Training and Testing Accuracy Scores\n",
    "print(f'Training Accuracy: {round(rfc.score(X_train, y_train),5)}.')\n",
    "print(f'Testing Accuracy: {round(rfc.score(X_test, y_test),5)}.')"
   ]
  },
  {
   "cell_type": "code",
   "execution_count": 183,
   "metadata": {},
   "outputs": [
    {
     "data": {
      "text/html": [
       "<div>\n",
       "<style scoped>\n",
       "    .dataframe tbody tr th:only-of-type {\n",
       "        vertical-align: middle;\n",
       "    }\n",
       "\n",
       "    .dataframe tbody tr th {\n",
       "        vertical-align: top;\n",
       "    }\n",
       "\n",
       "    .dataframe thead th {\n",
       "        text-align: right;\n",
       "    }\n",
       "</style>\n",
       "<table border=\"1\" class=\"dataframe\">\n",
       "  <thead>\n",
       "    <tr style=\"text-align: right;\">\n",
       "      <th></th>\n",
       "      <th>Importance</th>\n",
       "    </tr>\n",
       "  </thead>\n",
       "  <tbody>\n",
       "    <tr>\n",
       "      <td>PovertyRate</td>\n",
       "      <td>0.453575</td>\n",
       "    </tr>\n",
       "    <tr>\n",
       "      <td>TractSNAP</td>\n",
       "      <td>0.182395</td>\n",
       "    </tr>\n",
       "    <tr>\n",
       "      <td>TractWhite</td>\n",
       "      <td>0.077786</td>\n",
       "    </tr>\n",
       "    <tr>\n",
       "      <td>TractBlack</td>\n",
       "      <td>0.053044</td>\n",
       "    </tr>\n",
       "    <tr>\n",
       "      <td>TractHispanic</td>\n",
       "      <td>0.052186</td>\n",
       "    </tr>\n",
       "    <tr>\n",
       "      <td>TractSeniors</td>\n",
       "      <td>0.043076</td>\n",
       "    </tr>\n",
       "    <tr>\n",
       "      <td>OHU2010</td>\n",
       "      <td>0.038634</td>\n",
       "    </tr>\n",
       "    <tr>\n",
       "      <td>TractKids</td>\n",
       "      <td>0.033472</td>\n",
       "    </tr>\n",
       "    <tr>\n",
       "      <td>POP2010</td>\n",
       "      <td>0.032244</td>\n",
       "    </tr>\n",
       "    <tr>\n",
       "      <td>TractAsian</td>\n",
       "      <td>0.029873</td>\n",
       "    </tr>\n",
       "    <tr>\n",
       "      <td>Urban</td>\n",
       "      <td>0.003716</td>\n",
       "    </tr>\n",
       "  </tbody>\n",
       "</table>\n",
       "</div>"
      ],
      "text/plain": [
       "               Importance\n",
       "PovertyRate      0.453575\n",
       "TractSNAP        0.182395\n",
       "TractWhite       0.077786\n",
       "TractBlack       0.053044\n",
       "TractHispanic    0.052186\n",
       "TractSeniors     0.043076\n",
       "OHU2010          0.038634\n",
       "TractKids        0.033472\n",
       "POP2010          0.032244\n",
       "TractAsian       0.029873\n",
       "Urban            0.003716"
      ]
     },
     "execution_count": 183,
     "metadata": {},
     "output_type": "execute_result"
    }
   ],
   "source": [
    "# Interpretation of Features\n",
    "features_df = pd.DataFrame(rfc.feature_importances_, X_train.columns, columns=['Importance'])\n",
    "features_df.sort_values('Importance', ascending = False)"
   ]
  },
  {
   "cell_type": "markdown",
   "metadata": {},
   "source": [
    "### Findings - Low Income Random Forest\n",
    "- PovertyRate is most siginificant factor used in the Random Forest to classify Low Income"
   ]
  },
  {
   "cell_type": "markdown",
   "metadata": {},
   "source": [
    "### Low Access Predicting Model - Logistic Regression"
   ]
  },
  {
   "cell_type": "code",
   "execution_count": 184,
   "metadata": {},
   "outputs": [],
   "source": [
    "# Select our constructed Low-Access flag as target Vector\n",
    "y = census['la_flag']\n",
    "\n",
    "# Select Features\n",
    "features = ['POP2010',  'Urban', 'OHU2010',\n",
    "            'TractSNAP', 'PovertyRate', 'TractHUNV',\n",
    "            'TractKids', 'TractSeniors',\n",
    "           'TractBlack', 'TractHispanic',\n",
    "           'TractWhite', 'TractAsian']\n",
    "\n",
    "X = census[features]"
   ]
  },
  {
   "cell_type": "code",
   "execution_count": 185,
   "metadata": {},
   "outputs": [],
   "source": [
    "# Train/test split our data\n",
    "X_train, X_test, y_train, y_test = train_test_split(X, y, test_size = 0.33, random_state = 42)"
   ]
  },
  {
   "cell_type": "code",
   "execution_count": 186,
   "metadata": {},
   "outputs": [
    {
     "name": "stdout",
     "output_type": "stream",
     "text": [
      "Training Score: 0.82306.\n",
      "Testing Score: 0.82047.\n"
     ]
    }
   ],
   "source": [
    "# Set up Logistic Regression\n",
    "lr = LogisticRegression(solver = 'liblinear')\n",
    "lr.fit(X_train, y_train)\n",
    "# Accuracy Scores for Training and Testing Sets\n",
    "print(f'Training Score: {round(lr.score(X_train, y_train),5)}.')\n",
    "print(f'Testing Score: {round(lr.score(X_test, y_test),5)}.')"
   ]
  },
  {
   "cell_type": "code",
   "execution_count": 187,
   "metadata": {},
   "outputs": [
    {
     "data": {
      "text/html": [
       "<div>\n",
       "<style scoped>\n",
       "    .dataframe tbody tr th:only-of-type {\n",
       "        vertical-align: middle;\n",
       "    }\n",
       "\n",
       "    .dataframe tbody tr th {\n",
       "        vertical-align: top;\n",
       "    }\n",
       "\n",
       "    .dataframe thead th {\n",
       "        text-align: right;\n",
       "    }\n",
       "</style>\n",
       "<table border=\"1\" class=\"dataframe\">\n",
       "  <thead>\n",
       "    <tr style=\"text-align: right;\">\n",
       "      <th></th>\n",
       "      <th>Importance</th>\n",
       "    </tr>\n",
       "  </thead>\n",
       "  <tbody>\n",
       "    <tr>\n",
       "      <td>Urban</td>\n",
       "      <td>3.596765</td>\n",
       "    </tr>\n",
       "    <tr>\n",
       "      <td>PovertyRate</td>\n",
       "      <td>0.008103</td>\n",
       "    </tr>\n",
       "    <tr>\n",
       "      <td>TractSNAP</td>\n",
       "      <td>0.002453</td>\n",
       "    </tr>\n",
       "    <tr>\n",
       "      <td>TractSeniors</td>\n",
       "      <td>0.001630</td>\n",
       "    </tr>\n",
       "    <tr>\n",
       "      <td>TractKids</td>\n",
       "      <td>0.000446</td>\n",
       "    </tr>\n",
       "    <tr>\n",
       "      <td>POP2010</td>\n",
       "      <td>0.000187</td>\n",
       "    </tr>\n",
       "    <tr>\n",
       "      <td>OHU2010</td>\n",
       "      <td>0.000067</td>\n",
       "    </tr>\n",
       "    <tr>\n",
       "      <td>TractBlack</td>\n",
       "      <td>0.000003</td>\n",
       "    </tr>\n",
       "    <tr>\n",
       "      <td>TractWhite</td>\n",
       "      <td>-0.000086</td>\n",
       "    </tr>\n",
       "    <tr>\n",
       "      <td>TractHispanic</td>\n",
       "      <td>-0.000455</td>\n",
       "    </tr>\n",
       "    <tr>\n",
       "      <td>TractAsian</td>\n",
       "      <td>-0.000597</td>\n",
       "    </tr>\n",
       "    <tr>\n",
       "      <td>TractHUNV</td>\n",
       "      <td>-0.005983</td>\n",
       "    </tr>\n",
       "  </tbody>\n",
       "</table>\n",
       "</div>"
      ],
      "text/plain": [
       "               Importance\n",
       "Urban            3.596765\n",
       "PovertyRate      0.008103\n",
       "TractSNAP        0.002453\n",
       "TractSeniors     0.001630\n",
       "TractKids        0.000446\n",
       "POP2010          0.000187\n",
       "OHU2010          0.000067\n",
       "TractBlack       0.000003\n",
       "TractWhite      -0.000086\n",
       "TractHispanic   -0.000455\n",
       "TractAsian      -0.000597\n",
       "TractHUNV       -0.005983"
      ]
     },
     "execution_count": 187,
     "metadata": {},
     "output_type": "execute_result"
    }
   ],
   "source": [
    "# Interpretation - pull coefficients into DataFrame\n",
    "features_df = pd.DataFrame(lr.coef_.T, X_train.columns, columns=['Importance'])\n",
    "features_df.sort_values('Importance', ascending = False)"
   ]
  },
  {
   "cell_type": "markdown",
   "metadata": {},
   "source": [
    "### Findings - Low Access Logistic Regression\n",
    "- Urban flag has strongest effect on classifying Low-Access areas"
   ]
  },
  {
   "cell_type": "markdown",
   "metadata": {},
   "source": [
    "### Low Access Model  - Random Forest"
   ]
  },
  {
   "cell_type": "code",
   "execution_count": 188,
   "metadata": {},
   "outputs": [
    {
     "name": "stdout",
     "output_type": "stream",
     "text": [
      "Training Accuracy: 0.99803.\n",
      "Testing Accuracy: 0.8668.\n"
     ]
    }
   ],
   "source": [
    "# Instantiate and fit Random Forest Classifier\n",
    "rfc = RandomForestClassifier(n_estimators=20)\n",
    "rfc.fit(X_train, y_train)\n",
    "# Print Training and Testing Accuracy Scores\n",
    "print(f'Training Accuracy: {round(rfc.score(X_train, y_train),5)}.')\n",
    "print(f'Testing Accuracy: {round(rfc.score(X_test, y_test),5)}.')"
   ]
  },
  {
   "cell_type": "code",
   "execution_count": 189,
   "metadata": {},
   "outputs": [
    {
     "data": {
      "text/html": [
       "<div>\n",
       "<style scoped>\n",
       "    .dataframe tbody tr th:only-of-type {\n",
       "        vertical-align: middle;\n",
       "    }\n",
       "\n",
       "    .dataframe tbody tr th {\n",
       "        vertical-align: top;\n",
       "    }\n",
       "\n",
       "    .dataframe thead th {\n",
       "        text-align: right;\n",
       "    }\n",
       "</style>\n",
       "<table border=\"1\" class=\"dataframe\">\n",
       "  <thead>\n",
       "    <tr style=\"text-align: right;\">\n",
       "      <th></th>\n",
       "      <th>Importance</th>\n",
       "    </tr>\n",
       "  </thead>\n",
       "  <tbody>\n",
       "    <tr>\n",
       "      <td>Urban</td>\n",
       "      <td>0.222331</td>\n",
       "    </tr>\n",
       "    <tr>\n",
       "      <td>TractHUNV</td>\n",
       "      <td>0.184226</td>\n",
       "    </tr>\n",
       "    <tr>\n",
       "      <td>TractAsian</td>\n",
       "      <td>0.067132</td>\n",
       "    </tr>\n",
       "    <tr>\n",
       "      <td>TractWhite</td>\n",
       "      <td>0.065797</td>\n",
       "    </tr>\n",
       "    <tr>\n",
       "      <td>TractBlack</td>\n",
       "      <td>0.060373</td>\n",
       "    </tr>\n",
       "    <tr>\n",
       "      <td>TractHispanic</td>\n",
       "      <td>0.058967</td>\n",
       "    </tr>\n",
       "    <tr>\n",
       "      <td>PovertyRate</td>\n",
       "      <td>0.058538</td>\n",
       "    </tr>\n",
       "    <tr>\n",
       "      <td>TractSeniors</td>\n",
       "      <td>0.058078</td>\n",
       "    </tr>\n",
       "    <tr>\n",
       "      <td>OHU2010</td>\n",
       "      <td>0.057641</td>\n",
       "    </tr>\n",
       "    <tr>\n",
       "      <td>TractSNAP</td>\n",
       "      <td>0.057458</td>\n",
       "    </tr>\n",
       "    <tr>\n",
       "      <td>TractKids</td>\n",
       "      <td>0.056393</td>\n",
       "    </tr>\n",
       "    <tr>\n",
       "      <td>POP2010</td>\n",
       "      <td>0.053067</td>\n",
       "    </tr>\n",
       "  </tbody>\n",
       "</table>\n",
       "</div>"
      ],
      "text/plain": [
       "               Importance\n",
       "Urban            0.222331\n",
       "TractHUNV        0.184226\n",
       "TractAsian       0.067132\n",
       "TractWhite       0.065797\n",
       "TractBlack       0.060373\n",
       "TractHispanic    0.058967\n",
       "PovertyRate      0.058538\n",
       "TractSeniors     0.058078\n",
       "OHU2010          0.057641\n",
       "TractSNAP        0.057458\n",
       "TractKids        0.056393\n",
       "POP2010          0.053067"
      ]
     },
     "execution_count": 189,
     "metadata": {},
     "output_type": "execute_result"
    }
   ],
   "source": [
    "#Feature Importances DataFrame\n",
    "features_df = pd.DataFrame(rfc.feature_importances_, X_train.columns, columns=['Importance'])\n",
    "features_df.sort_values('Importance', ascending = False)"
   ]
  },
  {
   "cell_type": "markdown",
   "metadata": {},
   "source": [
    "### Findings - Low Access Random Forest\n",
    "- Urban Flag and Availability of Vehicles are most siginificant factors used by model to determine low access"
   ]
  },
  {
   "cell_type": "markdown",
   "metadata": {},
   "source": [
    "### Low-Income + Low-Access Model Logistic Regression"
   ]
  },
  {
   "cell_type": "code",
   "execution_count": 211,
   "metadata": {},
   "outputs": [],
   "source": [
    "# Use constructed Food Desert Flag as Target Vector\n",
    "y = census['fd_flag']\n",
    "\n",
    "features = ['POP2010',  'Urban', 'OHU2010',\n",
    "            'TractSNAP', 'PovertyRate', 'TractHUNV',\n",
    "            'TractKids', 'TractSeniors',\n",
    "           'TractBlack', 'TractHispanic',\n",
    "           'TractWhite', 'TractAsian']\n",
    "\n",
    "\n",
    "X = census[features]"
   ]
  },
  {
   "cell_type": "code",
   "execution_count": 212,
   "metadata": {},
   "outputs": [
    {
     "data": {
      "text/plain": [
       "0    0.696338\n",
       "1    0.303662\n",
       "Name: fd_flag, dtype: float64"
      ]
     },
     "execution_count": 212,
     "metadata": {},
     "output_type": "execute_result"
    }
   ],
   "source": [
    "# Baseline Model\n",
    "y.value_counts(normalize=True)"
   ]
  },
  {
   "cell_type": "code",
   "execution_count": 213,
   "metadata": {},
   "outputs": [],
   "source": [
    "# Train-test-split our data\n",
    "X_train, X_test, y_train, y_test = train_test_split(X, y, test_size = 0.2, random_state = 42)"
   ]
  },
  {
   "cell_type": "code",
   "execution_count": 214,
   "metadata": {},
   "outputs": [
    {
     "name": "stdout",
     "output_type": "stream",
     "text": [
      "Training Score: 0.82773.\n",
      "Testing Score: 0.83565.\n"
     ]
    }
   ],
   "source": [
    "# Set up Logistic Regression\n",
    "lr = LogisticRegression(solver = 'liblinear')\n",
    "lr.fit(X_train, y_train)\n",
    "# Accuracy Scores for Training and Testing Sets\n",
    "print(f'Training Score: {round(lr.score(X_train, y_train),5)}.')\n",
    "print(f'Testing Score: {round(lr.score(X_test, y_test),5)}.')"
   ]
  },
  {
   "cell_type": "code",
   "execution_count": 215,
   "metadata": {},
   "outputs": [
    {
     "data": {
      "text/html": [
       "<div>\n",
       "<style scoped>\n",
       "    .dataframe tbody tr th:only-of-type {\n",
       "        vertical-align: middle;\n",
       "    }\n",
       "\n",
       "    .dataframe tbody tr th {\n",
       "        vertical-align: top;\n",
       "    }\n",
       "\n",
       "    .dataframe thead th {\n",
       "        text-align: right;\n",
       "    }\n",
       "</style>\n",
       "<table border=\"1\" class=\"dataframe\">\n",
       "  <thead>\n",
       "    <tr style=\"text-align: right;\">\n",
       "      <th></th>\n",
       "      <th>Importance</th>\n",
       "    </tr>\n",
       "  </thead>\n",
       "  <tbody>\n",
       "    <tr>\n",
       "      <td>Urban</td>\n",
       "      <td>1.015040</td>\n",
       "    </tr>\n",
       "    <tr>\n",
       "      <td>PovertyRate</td>\n",
       "      <td>0.087418</td>\n",
       "    </tr>\n",
       "    <tr>\n",
       "      <td>TractSNAP</td>\n",
       "      <td>0.006106</td>\n",
       "    </tr>\n",
       "    <tr>\n",
       "      <td>POP2010</td>\n",
       "      <td>0.000566</td>\n",
       "    </tr>\n",
       "    <tr>\n",
       "      <td>OHU2010</td>\n",
       "      <td>0.000530</td>\n",
       "    </tr>\n",
       "    <tr>\n",
       "      <td>TractSeniors</td>\n",
       "      <td>0.000090</td>\n",
       "    </tr>\n",
       "    <tr>\n",
       "      <td>TractHispanic</td>\n",
       "      <td>-0.000039</td>\n",
       "    </tr>\n",
       "    <tr>\n",
       "      <td>TractBlack</td>\n",
       "      <td>-0.000445</td>\n",
       "    </tr>\n",
       "    <tr>\n",
       "      <td>TractWhite</td>\n",
       "      <td>-0.000755</td>\n",
       "    </tr>\n",
       "    <tr>\n",
       "      <td>TractKids</td>\n",
       "      <td>-0.001001</td>\n",
       "    </tr>\n",
       "    <tr>\n",
       "      <td>TractAsian</td>\n",
       "      <td>-0.001044</td>\n",
       "    </tr>\n",
       "    <tr>\n",
       "      <td>TractHUNV</td>\n",
       "      <td>-0.005414</td>\n",
       "    </tr>\n",
       "  </tbody>\n",
       "</table>\n",
       "</div>"
      ],
      "text/plain": [
       "               Importance\n",
       "Urban            1.015040\n",
       "PovertyRate      0.087418\n",
       "TractSNAP        0.006106\n",
       "POP2010          0.000566\n",
       "OHU2010          0.000530\n",
       "TractSeniors     0.000090\n",
       "TractHispanic   -0.000039\n",
       "TractBlack      -0.000445\n",
       "TractWhite      -0.000755\n",
       "TractKids       -0.001001\n",
       "TractAsian      -0.001044\n",
       "TractHUNV       -0.005414"
      ]
     },
     "execution_count": 215,
     "metadata": {},
     "output_type": "execute_result"
    }
   ],
   "source": [
    "#Interpretation - pull cefficients into DataFrame\n",
    "features_df = pd.DataFrame(lr.coef_.T, X_train.columns, columns=['Importance'])\n",
    "features_df.sort_values('Importance', ascending = False)"
   ]
  },
  {
   "cell_type": "markdown",
   "metadata": {},
   "source": [
    "### FIndings - Low-Income + Low-Access Model  Logistic Regression\n",
    "- Urban Flag and Poverty Rate have most significant effects on our classification"
   ]
  },
  {
   "cell_type": "markdown",
   "metadata": {},
   "source": [
    "### Low-Income + Low-Access Model - Random Forest"
   ]
  },
  {
   "cell_type": "code",
   "execution_count": 218,
   "metadata": {},
   "outputs": [
    {
     "name": "stdout",
     "output_type": "stream",
     "text": [
      "Training Accuracy: 0.99679.\n",
      "Testing Accuracy: 0.87106.\n"
     ]
    }
   ],
   "source": [
    "# Instantiate and fit Random Forest Classifier\n",
    "rfc = RandomForestClassifier(n_estimators=20)\n",
    "rfc.fit(X_train, y_train)\n",
    "# Print Training and Testing Accuracy Scores\n",
    "print(f'Training Accuracy: {round(rfc.score(X_train, y_train),5)}.')\n",
    "print(f'Testing Accuracy: {round(rfc.score(X_test, y_test),5)}.')"
   ]
  },
  {
   "cell_type": "code",
   "execution_count": 219,
   "metadata": {},
   "outputs": [
    {
     "data": {
      "text/html": [
       "<div>\n",
       "<style scoped>\n",
       "    .dataframe tbody tr th:only-of-type {\n",
       "        vertical-align: middle;\n",
       "    }\n",
       "\n",
       "    .dataframe tbody tr th {\n",
       "        vertical-align: top;\n",
       "    }\n",
       "\n",
       "    .dataframe thead th {\n",
       "        text-align: right;\n",
       "    }\n",
       "</style>\n",
       "<table border=\"1\" class=\"dataframe\">\n",
       "  <thead>\n",
       "    <tr style=\"text-align: right;\">\n",
       "      <th></th>\n",
       "      <th>Importance</th>\n",
       "    </tr>\n",
       "  </thead>\n",
       "  <tbody>\n",
       "    <tr>\n",
       "      <td>PovertyRate</td>\n",
       "      <td>0.284971</td>\n",
       "    </tr>\n",
       "    <tr>\n",
       "      <td>TractSNAP</td>\n",
       "      <td>0.140784</td>\n",
       "    </tr>\n",
       "    <tr>\n",
       "      <td>TractHUNV</td>\n",
       "      <td>0.118125</td>\n",
       "    </tr>\n",
       "    <tr>\n",
       "      <td>TractWhite</td>\n",
       "      <td>0.063125</td>\n",
       "    </tr>\n",
       "    <tr>\n",
       "      <td>TractBlack</td>\n",
       "      <td>0.058794</td>\n",
       "    </tr>\n",
       "    <tr>\n",
       "      <td>TractHispanic</td>\n",
       "      <td>0.056559</td>\n",
       "    </tr>\n",
       "    <tr>\n",
       "      <td>TractSeniors</td>\n",
       "      <td>0.056487</td>\n",
       "    </tr>\n",
       "    <tr>\n",
       "      <td>TractAsian</td>\n",
       "      <td>0.051553</td>\n",
       "    </tr>\n",
       "    <tr>\n",
       "      <td>OHU2010</td>\n",
       "      <td>0.049243</td>\n",
       "    </tr>\n",
       "    <tr>\n",
       "      <td>TractKids</td>\n",
       "      <td>0.046949</td>\n",
       "    </tr>\n",
       "    <tr>\n",
       "      <td>POP2010</td>\n",
       "      <td>0.043608</td>\n",
       "    </tr>\n",
       "    <tr>\n",
       "      <td>Urban</td>\n",
       "      <td>0.029803</td>\n",
       "    </tr>\n",
       "  </tbody>\n",
       "</table>\n",
       "</div>"
      ],
      "text/plain": [
       "               Importance\n",
       "PovertyRate      0.284971\n",
       "TractSNAP        0.140784\n",
       "TractHUNV        0.118125\n",
       "TractWhite       0.063125\n",
       "TractBlack       0.058794\n",
       "TractHispanic    0.056559\n",
       "TractSeniors     0.056487\n",
       "TractAsian       0.051553\n",
       "OHU2010          0.049243\n",
       "TractKids        0.046949\n",
       "POP2010          0.043608\n",
       "Urban            0.029803"
      ]
     },
     "execution_count": 219,
     "metadata": {},
     "output_type": "execute_result"
    }
   ],
   "source": [
    "#Interpretation - pull features into DataFrame\n",
    "features_df = pd.DataFrame(rfc.feature_importances_, X_train.columns, columns=['Importance'])\n",
    "features_df.sort_values('Importance', ascending = False)"
   ]
  },
  {
   "cell_type": "markdown",
   "metadata": {},
   "source": [
    "### Findings - Low-Income + Low-Access Model Random Forest\n",
    "- Consistent with previous Models, Poverty Rate and Availabiliy of Vehicles are most important factors for classfying a region as Food Desert"
   ]
  },
  {
   "cell_type": "code",
   "execution_count": null,
   "metadata": {},
   "outputs": [],
   "source": []
  }
 ],
 "metadata": {
  "kernelspec": {
   "display_name": "Python 3",
   "language": "python",
   "name": "python3"
  },
  "language_info": {
   "codemirror_mode": {
    "name": "ipython",
    "version": 3
   },
   "file_extension": ".py",
   "mimetype": "text/x-python",
   "name": "python",
   "nbconvert_exporter": "python",
   "pygments_lexer": "ipython3",
   "version": "3.7.4"
  }
 },
 "nbformat": 4,
 "nbformat_minor": 2
}
